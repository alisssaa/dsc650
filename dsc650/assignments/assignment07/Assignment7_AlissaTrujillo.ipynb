{
 "cells": [
  {
   "cell_type": "markdown",
   "id": "c8c4e201",
   "metadata": {},
   "source": [
    "### Assignment 7: Partitioning"
   ]
  },
  {
   "cell_type": "code",
   "execution_count": 96,
   "id": "07c27907",
   "metadata": {},
   "outputs": [],
   "source": [
    "import pandas as pd\n",
    "import numpy as np\n",
    "import math\n",
    "\n",
    "import hashlib"
   ]
  },
  {
   "cell_type": "markdown",
   "id": "b0d83c3f",
   "metadata": {},
   "source": [
    "### 7.1.a"
   ]
  },
  {
   "cell_type": "markdown",
   "id": "08fffaa9",
   "metadata": {},
   "source": [
    "**Read Dataset**"
   ]
  },
  {
   "cell_type": "code",
   "execution_count": 48,
   "id": "055cb481",
   "metadata": {},
   "outputs": [],
   "source": [
    "flight_df = pd.read_parquet('routes.parquet')"
   ]
  },
  {
   "cell_type": "code",
   "execution_count": 49,
   "id": "3bcf4834",
   "metadata": {},
   "outputs": [
    {
     "data": {
      "text/html": [
       "<div>\n",
       "<style scoped>\n",
       "    .dataframe tbody tr th:only-of-type {\n",
       "        vertical-align: middle;\n",
       "    }\n",
       "\n",
       "    .dataframe tbody tr th {\n",
       "        vertical-align: top;\n",
       "    }\n",
       "\n",
       "    .dataframe thead th {\n",
       "        text-align: right;\n",
       "    }\n",
       "</style>\n",
       "<table border=\"1\" class=\"dataframe\">\n",
       "  <thead>\n",
       "    <tr style=\"text-align: right;\">\n",
       "      <th></th>\n",
       "      <th>airline</th>\n",
       "      <th>src_airport</th>\n",
       "      <th>dst_airport</th>\n",
       "      <th>codeshare</th>\n",
       "      <th>equipment</th>\n",
       "    </tr>\n",
       "  </thead>\n",
       "  <tbody>\n",
       "    <tr>\n",
       "      <th>0</th>\n",
       "      <td>{'airline_id': 410, 'name': 'Aerocondor', 'ali...</td>\n",
       "      <td>{'airport_id': 2965.0, 'name': 'Sochi Internat...</td>\n",
       "      <td>{'airport_id': 2990.0, 'name': 'Kazan Internat...</td>\n",
       "      <td>False</td>\n",
       "      <td>[CR2]</td>\n",
       "    </tr>\n",
       "    <tr>\n",
       "      <th>1</th>\n",
       "      <td>{'airline_id': 410, 'name': 'Aerocondor', 'ali...</td>\n",
       "      <td>{'airport_id': 2966.0, 'name': 'Astrakhan Airp...</td>\n",
       "      <td>{'airport_id': 2990.0, 'name': 'Kazan Internat...</td>\n",
       "      <td>False</td>\n",
       "      <td>[CR2]</td>\n",
       "    </tr>\n",
       "    <tr>\n",
       "      <th>2</th>\n",
       "      <td>{'airline_id': 410, 'name': 'Aerocondor', 'ali...</td>\n",
       "      <td>{'airport_id': 2966.0, 'name': 'Astrakhan Airp...</td>\n",
       "      <td>{'airport_id': 2962.0, 'name': 'Mineralnyye Vo...</td>\n",
       "      <td>False</td>\n",
       "      <td>[CR2]</td>\n",
       "    </tr>\n",
       "    <tr>\n",
       "      <th>3</th>\n",
       "      <td>{'airline_id': 410, 'name': 'Aerocondor', 'ali...</td>\n",
       "      <td>{'airport_id': 2968.0, 'name': 'Chelyabinsk Ba...</td>\n",
       "      <td>{'airport_id': 2990.0, 'name': 'Kazan Internat...</td>\n",
       "      <td>False</td>\n",
       "      <td>[CR2]</td>\n",
       "    </tr>\n",
       "    <tr>\n",
       "      <th>4</th>\n",
       "      <td>{'airline_id': 410, 'name': 'Aerocondor', 'ali...</td>\n",
       "      <td>{'airport_id': 2968.0, 'name': 'Chelyabinsk Ba...</td>\n",
       "      <td>{'airport_id': 4078.0, 'name': 'Tolmachevo Air...</td>\n",
       "      <td>False</td>\n",
       "      <td>[CR2]</td>\n",
       "    </tr>\n",
       "  </tbody>\n",
       "</table>\n",
       "</div>"
      ],
      "text/plain": [
       "                                             airline  \\\n",
       "0  {'airline_id': 410, 'name': 'Aerocondor', 'ali...   \n",
       "1  {'airline_id': 410, 'name': 'Aerocondor', 'ali...   \n",
       "2  {'airline_id': 410, 'name': 'Aerocondor', 'ali...   \n",
       "3  {'airline_id': 410, 'name': 'Aerocondor', 'ali...   \n",
       "4  {'airline_id': 410, 'name': 'Aerocondor', 'ali...   \n",
       "\n",
       "                                         src_airport  \\\n",
       "0  {'airport_id': 2965.0, 'name': 'Sochi Internat...   \n",
       "1  {'airport_id': 2966.0, 'name': 'Astrakhan Airp...   \n",
       "2  {'airport_id': 2966.0, 'name': 'Astrakhan Airp...   \n",
       "3  {'airport_id': 2968.0, 'name': 'Chelyabinsk Ba...   \n",
       "4  {'airport_id': 2968.0, 'name': 'Chelyabinsk Ba...   \n",
       "\n",
       "                                         dst_airport  codeshare equipment  \n",
       "0  {'airport_id': 2990.0, 'name': 'Kazan Internat...      False     [CR2]  \n",
       "1  {'airport_id': 2990.0, 'name': 'Kazan Internat...      False     [CR2]  \n",
       "2  {'airport_id': 2962.0, 'name': 'Mineralnyye Vo...      False     [CR2]  \n",
       "3  {'airport_id': 2990.0, 'name': 'Kazan Internat...      False     [CR2]  \n",
       "4  {'airport_id': 4078.0, 'name': 'Tolmachevo Air...      False     [CR2]  "
      ]
     },
     "execution_count": 49,
     "metadata": {},
     "output_type": "execute_result"
    }
   ],
   "source": [
    "flight_df.head()"
   ]
  },
  {
   "cell_type": "markdown",
   "id": "939c0dae",
   "metadata": {},
   "source": [
    "**Add Key Column**"
   ]
  },
  {
   "cell_type": "code",
   "execution_count": 62,
   "id": "295b4644",
   "metadata": {},
   "outputs": [],
   "source": [
    "flight_df['key'] = flight_df.apply(lambda _: '', axis=1)\n",
    "\n",
    "keys = []\n",
    "    \n",
    "for i, row in flight_df.iterrows():\n",
    "    try:\n",
    "        s = row['src_airport']['iata']\n",
    "        d = row['dst_airport']['iata']\n",
    "        a = row['airline']['iata']\n",
    "        key = s + d + a\n",
    "        keys.append(key)\n",
    "        #row['key'] = str(key)\n",
    "    except:\n",
    "        keys.append(np.nan)\n",
    "        pass\n",
    "    \n",
    "flight_df['key'] = keys"
   ]
  },
  {
   "cell_type": "code",
   "execution_count": 64,
   "id": "d85328c6",
   "metadata": {},
   "outputs": [],
   "source": [
    "flight_df = flight_df.dropna(subset='key')"
   ]
  },
  {
   "cell_type": "code",
   "execution_count": 65,
   "id": "6684ddd5",
   "metadata": {},
   "outputs": [
    {
     "data": {
      "text/html": [
       "<div>\n",
       "<style scoped>\n",
       "    .dataframe tbody tr th:only-of-type {\n",
       "        vertical-align: middle;\n",
       "    }\n",
       "\n",
       "    .dataframe tbody tr th {\n",
       "        vertical-align: top;\n",
       "    }\n",
       "\n",
       "    .dataframe thead th {\n",
       "        text-align: right;\n",
       "    }\n",
       "</style>\n",
       "<table border=\"1\" class=\"dataframe\">\n",
       "  <thead>\n",
       "    <tr style=\"text-align: right;\">\n",
       "      <th></th>\n",
       "      <th>airline</th>\n",
       "      <th>src_airport</th>\n",
       "      <th>dst_airport</th>\n",
       "      <th>codeshare</th>\n",
       "      <th>equipment</th>\n",
       "      <th>key</th>\n",
       "      <th>kv_key</th>\n",
       "    </tr>\n",
       "  </thead>\n",
       "  <tbody>\n",
       "    <tr>\n",
       "      <th>0</th>\n",
       "      <td>{'airline_id': 410, 'name': 'Aerocondor', 'ali...</td>\n",
       "      <td>{'airport_id': 2965.0, 'name': 'Sochi Internat...</td>\n",
       "      <td>{'airport_id': 2990.0, 'name': 'Kazan Internat...</td>\n",
       "      <td>False</td>\n",
       "      <td>[CR2]</td>\n",
       "      <td>AERKZN2B</td>\n",
       "      <td>A</td>\n",
       "    </tr>\n",
       "    <tr>\n",
       "      <th>1</th>\n",
       "      <td>{'airline_id': 410, 'name': 'Aerocondor', 'ali...</td>\n",
       "      <td>{'airport_id': 2966.0, 'name': 'Astrakhan Airp...</td>\n",
       "      <td>{'airport_id': 2990.0, 'name': 'Kazan Internat...</td>\n",
       "      <td>False</td>\n",
       "      <td>[CR2]</td>\n",
       "      <td>ASFKZN2B</td>\n",
       "      <td>A</td>\n",
       "    </tr>\n",
       "    <tr>\n",
       "      <th>2</th>\n",
       "      <td>{'airline_id': 410, 'name': 'Aerocondor', 'ali...</td>\n",
       "      <td>{'airport_id': 2966.0, 'name': 'Astrakhan Airp...</td>\n",
       "      <td>{'airport_id': 2962.0, 'name': 'Mineralnyye Vo...</td>\n",
       "      <td>False</td>\n",
       "      <td>[CR2]</td>\n",
       "      <td>ASFMRV2B</td>\n",
       "      <td>A</td>\n",
       "    </tr>\n",
       "    <tr>\n",
       "      <th>3</th>\n",
       "      <td>{'airline_id': 410, 'name': 'Aerocondor', 'ali...</td>\n",
       "      <td>{'airport_id': 2968.0, 'name': 'Chelyabinsk Ba...</td>\n",
       "      <td>{'airport_id': 2990.0, 'name': 'Kazan Internat...</td>\n",
       "      <td>False</td>\n",
       "      <td>[CR2]</td>\n",
       "      <td>CEKKZN2B</td>\n",
       "      <td>C</td>\n",
       "    </tr>\n",
       "    <tr>\n",
       "      <th>4</th>\n",
       "      <td>{'airline_id': 410, 'name': 'Aerocondor', 'ali...</td>\n",
       "      <td>{'airport_id': 2968.0, 'name': 'Chelyabinsk Ba...</td>\n",
       "      <td>{'airport_id': 4078.0, 'name': 'Tolmachevo Air...</td>\n",
       "      <td>False</td>\n",
       "      <td>[CR2]</td>\n",
       "      <td>CEKOVB2B</td>\n",
       "      <td>C</td>\n",
       "    </tr>\n",
       "  </tbody>\n",
       "</table>\n",
       "</div>"
      ],
      "text/plain": [
       "                                             airline  \\\n",
       "0  {'airline_id': 410, 'name': 'Aerocondor', 'ali...   \n",
       "1  {'airline_id': 410, 'name': 'Aerocondor', 'ali...   \n",
       "2  {'airline_id': 410, 'name': 'Aerocondor', 'ali...   \n",
       "3  {'airline_id': 410, 'name': 'Aerocondor', 'ali...   \n",
       "4  {'airline_id': 410, 'name': 'Aerocondor', 'ali...   \n",
       "\n",
       "                                         src_airport  \\\n",
       "0  {'airport_id': 2965.0, 'name': 'Sochi Internat...   \n",
       "1  {'airport_id': 2966.0, 'name': 'Astrakhan Airp...   \n",
       "2  {'airport_id': 2966.0, 'name': 'Astrakhan Airp...   \n",
       "3  {'airport_id': 2968.0, 'name': 'Chelyabinsk Ba...   \n",
       "4  {'airport_id': 2968.0, 'name': 'Chelyabinsk Ba...   \n",
       "\n",
       "                                         dst_airport  codeshare equipment  \\\n",
       "0  {'airport_id': 2990.0, 'name': 'Kazan Internat...      False     [CR2]   \n",
       "1  {'airport_id': 2990.0, 'name': 'Kazan Internat...      False     [CR2]   \n",
       "2  {'airport_id': 2962.0, 'name': 'Mineralnyye Vo...      False     [CR2]   \n",
       "3  {'airport_id': 2990.0, 'name': 'Kazan Internat...      False     [CR2]   \n",
       "4  {'airport_id': 4078.0, 'name': 'Tolmachevo Air...      False     [CR2]   \n",
       "\n",
       "        key kv_key  \n",
       "0  AERKZN2B      A  \n",
       "1  ASFKZN2B      A  \n",
       "2  ASFMRV2B      A  \n",
       "3  CEKKZN2B      C  \n",
       "4  CEKOVB2B      C  "
      ]
     },
     "execution_count": 65,
     "metadata": {},
     "output_type": "execute_result"
    }
   ],
   "source": [
    "flight_df.head()"
   ]
  },
  {
   "cell_type": "markdown",
   "id": "879b4404",
   "metadata": {},
   "source": [
    "**Partitioning the Data**"
   ]
  },
  {
   "cell_type": "code",
   "execution_count": 52,
   "id": "8e37daa9",
   "metadata": {},
   "outputs": [],
   "source": [
    "partitions = (\n",
    "        ('A', 'A'), ('B', 'B'), ('C', 'D'), ('E', 'F'),\n",
    "        ('G', 'H'), ('I', 'J'), ('K', 'L'), ('M', 'M'),\n",
    "        ('N', 'N'), ('O', 'P'), ('Q', 'R'), ('S', 'T'),\n",
    "        ('U', 'U'), ('V', 'V'), ('W', 'X'), ('Y', 'Z')\n",
    "    )"
   ]
  },
  {
   "cell_type": "code",
   "execution_count": 74,
   "id": "178ee377",
   "metadata": {},
   "outputs": [],
   "source": [
    "flight_df['kv_key'] = flight_df['key'].str[:1]"
   ]
  },
  {
   "cell_type": "code",
   "execution_count": 75,
   "id": "bfe9ab58",
   "metadata": {},
   "outputs": [],
   "source": [
    "keys2 = []\n",
    "\n",
    "for i, row in flight_df.iterrows():\n",
    "    if row['kv_key'] in ['A', 'B', 'M', 'N', 'U', 'V']:\n",
    "        keys2.append(row['kv_key'])\n",
    "    elif row['kv_key'] in ['C', 'D']:\n",
    "        keys2.append('C-D')\n",
    "    elif row['kv_key'] in ['E', 'F']:\n",
    "        keys2.append('E-F')\n",
    "    elif row['kv_key'] in ['G', 'H']:\n",
    "        keys2.append('G-H')\n",
    "    elif row['kv_key'] in ['I', 'J']:\n",
    "        keys2.append('I-J')\n",
    "    elif row['kv_key'] in ['K', 'L']:\n",
    "        keys2.append('K-L')\n",
    "    elif row['kv_key'] in ['O', 'P']:\n",
    "        keys2.append('O-P')\n",
    "    elif row['kv_key'] in ['Q', 'R']:\n",
    "        keys2.append('Q-R')\n",
    "    elif row['kv_key'] in ['S', 'T']:\n",
    "        keys2.append('S-T')\n",
    "    elif row['kv_key'] in ['W', 'X']:\n",
    "        keys2.append('W-X')\n",
    "    elif row['kv_key'] in ['Y', 'Z']:\n",
    "        keys2.append('Y-Z')"
   ]
  },
  {
   "cell_type": "code",
   "execution_count": 76,
   "id": "aa767007",
   "metadata": {},
   "outputs": [],
   "source": [
    "flight_df['kv_key'] = keys2"
   ]
  },
  {
   "cell_type": "code",
   "execution_count": 77,
   "id": "e5a34e1d",
   "metadata": {},
   "outputs": [],
   "source": [
    "partition_cols = ['kv_key']"
   ]
  },
  {
   "cell_type": "code",
   "execution_count": 78,
   "id": "10236054",
   "metadata": {},
   "outputs": [],
   "source": [
    "flight_df.to_parquet('results/kv', partition_cols = partition_cols)"
   ]
  },
  {
   "cell_type": "markdown",
   "id": "70f758a8",
   "metadata": {},
   "source": [
    "### 7.1.b"
   ]
  },
  {
   "cell_type": "markdown",
   "id": "fc532e74",
   "metadata": {},
   "source": [
    "**Hash Keys**"
   ]
  },
  {
   "cell_type": "code",
   "execution_count": 80,
   "id": "1e906fae",
   "metadata": {},
   "outputs": [],
   "source": [
    "def hash_key(key):\n",
    "    m = hashlib.sha256()\n",
    "    m.update(str(key).encode('utf-8'))\n",
    "    return m.hexdigest()"
   ]
  },
  {
   "cell_type": "code",
   "execution_count": 90,
   "id": "7137b1d3",
   "metadata": {},
   "outputs": [],
   "source": [
    "flight_df['hashed'] = flight_df.key.apply(hash_key)\n",
    "\n",
    "flight_df['hash_key'] = flight_df['hashed'].str[0]\n",
    "flight_df['hash_key'] = flight_df['hash_key'].str.upper()"
   ]
  },
  {
   "cell_type": "code",
   "execution_count": 91,
   "id": "864b54f9",
   "metadata": {},
   "outputs": [
    {
     "data": {
      "text/html": [
       "<div>\n",
       "<style scoped>\n",
       "    .dataframe tbody tr th:only-of-type {\n",
       "        vertical-align: middle;\n",
       "    }\n",
       "\n",
       "    .dataframe tbody tr th {\n",
       "        vertical-align: top;\n",
       "    }\n",
       "\n",
       "    .dataframe thead th {\n",
       "        text-align: right;\n",
       "    }\n",
       "</style>\n",
       "<table border=\"1\" class=\"dataframe\">\n",
       "  <thead>\n",
       "    <tr style=\"text-align: right;\">\n",
       "      <th></th>\n",
       "      <th>airline</th>\n",
       "      <th>src_airport</th>\n",
       "      <th>dst_airport</th>\n",
       "      <th>codeshare</th>\n",
       "      <th>equipment</th>\n",
       "      <th>key</th>\n",
       "      <th>kv_key</th>\n",
       "      <th>hashed</th>\n",
       "      <th>hash_key</th>\n",
       "    </tr>\n",
       "  </thead>\n",
       "  <tbody>\n",
       "    <tr>\n",
       "      <th>0</th>\n",
       "      <td>{'airline_id': 410, 'name': 'Aerocondor', 'ali...</td>\n",
       "      <td>{'airport_id': 2965.0, 'name': 'Sochi Internat...</td>\n",
       "      <td>{'airport_id': 2990.0, 'name': 'Kazan Internat...</td>\n",
       "      <td>False</td>\n",
       "      <td>[CR2]</td>\n",
       "      <td>AERKZN2B</td>\n",
       "      <td>A</td>\n",
       "      <td>652cdec02010381f175efe499e070c8cbaac1522bac59a...</td>\n",
       "      <td>6</td>\n",
       "    </tr>\n",
       "    <tr>\n",
       "      <th>1</th>\n",
       "      <td>{'airline_id': 410, 'name': 'Aerocondor', 'ali...</td>\n",
       "      <td>{'airport_id': 2966.0, 'name': 'Astrakhan Airp...</td>\n",
       "      <td>{'airport_id': 2990.0, 'name': 'Kazan Internat...</td>\n",
       "      <td>False</td>\n",
       "      <td>[CR2]</td>\n",
       "      <td>ASFKZN2B</td>\n",
       "      <td>A</td>\n",
       "      <td>9eea5dd88177f8d835b2bb9cb27fb01268122b635b241a...</td>\n",
       "      <td>9</td>\n",
       "    </tr>\n",
       "    <tr>\n",
       "      <th>2</th>\n",
       "      <td>{'airline_id': 410, 'name': 'Aerocondor', 'ali...</td>\n",
       "      <td>{'airport_id': 2966.0, 'name': 'Astrakhan Airp...</td>\n",
       "      <td>{'airport_id': 2962.0, 'name': 'Mineralnyye Vo...</td>\n",
       "      <td>False</td>\n",
       "      <td>[CR2]</td>\n",
       "      <td>ASFMRV2B</td>\n",
       "      <td>A</td>\n",
       "      <td>161143856af25bd4475f62c80c19f68936a139f653c1d3...</td>\n",
       "      <td>1</td>\n",
       "    </tr>\n",
       "    <tr>\n",
       "      <th>3</th>\n",
       "      <td>{'airline_id': 410, 'name': 'Aerocondor', 'ali...</td>\n",
       "      <td>{'airport_id': 2968.0, 'name': 'Chelyabinsk Ba...</td>\n",
       "      <td>{'airport_id': 2990.0, 'name': 'Kazan Internat...</td>\n",
       "      <td>False</td>\n",
       "      <td>[CR2]</td>\n",
       "      <td>CEKKZN2B</td>\n",
       "      <td>C-D</td>\n",
       "      <td>39aa99e6ae2757341bede9584473906ef1089e30820c90...</td>\n",
       "      <td>3</td>\n",
       "    </tr>\n",
       "    <tr>\n",
       "      <th>4</th>\n",
       "      <td>{'airline_id': 410, 'name': 'Aerocondor', 'ali...</td>\n",
       "      <td>{'airport_id': 2968.0, 'name': 'Chelyabinsk Ba...</td>\n",
       "      <td>{'airport_id': 4078.0, 'name': 'Tolmachevo Air...</td>\n",
       "      <td>False</td>\n",
       "      <td>[CR2]</td>\n",
       "      <td>CEKOVB2B</td>\n",
       "      <td>C-D</td>\n",
       "      <td>143b3389bce68eea3a13ac26a9c76c1fa583ec2bd26ea8...</td>\n",
       "      <td>1</td>\n",
       "    </tr>\n",
       "  </tbody>\n",
       "</table>\n",
       "</div>"
      ],
      "text/plain": [
       "                                             airline  \\\n",
       "0  {'airline_id': 410, 'name': 'Aerocondor', 'ali...   \n",
       "1  {'airline_id': 410, 'name': 'Aerocondor', 'ali...   \n",
       "2  {'airline_id': 410, 'name': 'Aerocondor', 'ali...   \n",
       "3  {'airline_id': 410, 'name': 'Aerocondor', 'ali...   \n",
       "4  {'airline_id': 410, 'name': 'Aerocondor', 'ali...   \n",
       "\n",
       "                                         src_airport  \\\n",
       "0  {'airport_id': 2965.0, 'name': 'Sochi Internat...   \n",
       "1  {'airport_id': 2966.0, 'name': 'Astrakhan Airp...   \n",
       "2  {'airport_id': 2966.0, 'name': 'Astrakhan Airp...   \n",
       "3  {'airport_id': 2968.0, 'name': 'Chelyabinsk Ba...   \n",
       "4  {'airport_id': 2968.0, 'name': 'Chelyabinsk Ba...   \n",
       "\n",
       "                                         dst_airport  codeshare equipment  \\\n",
       "0  {'airport_id': 2990.0, 'name': 'Kazan Internat...      False     [CR2]   \n",
       "1  {'airport_id': 2990.0, 'name': 'Kazan Internat...      False     [CR2]   \n",
       "2  {'airport_id': 2962.0, 'name': 'Mineralnyye Vo...      False     [CR2]   \n",
       "3  {'airport_id': 2990.0, 'name': 'Kazan Internat...      False     [CR2]   \n",
       "4  {'airport_id': 4078.0, 'name': 'Tolmachevo Air...      False     [CR2]   \n",
       "\n",
       "        key kv_key                                             hashed hash_key  \n",
       "0  AERKZN2B      A  652cdec02010381f175efe499e070c8cbaac1522bac59a...        6  \n",
       "1  ASFKZN2B      A  9eea5dd88177f8d835b2bb9cb27fb01268122b635b241a...        9  \n",
       "2  ASFMRV2B      A  161143856af25bd4475f62c80c19f68936a139f653c1d3...        1  \n",
       "3  CEKKZN2B    C-D  39aa99e6ae2757341bede9584473906ef1089e30820c90...        3  \n",
       "4  CEKOVB2B    C-D  143b3389bce68eea3a13ac26a9c76c1fa583ec2bd26ea8...        1  "
      ]
     },
     "execution_count": 91,
     "metadata": {},
     "output_type": "execute_result"
    }
   ],
   "source": [
    "flight_df.head()"
   ]
  },
  {
   "cell_type": "markdown",
   "id": "94c65dc6",
   "metadata": {},
   "source": [
    "**Partitioning the Data**"
   ]
  },
  {
   "cell_type": "code",
   "execution_count": 92,
   "id": "b8420702",
   "metadata": {},
   "outputs": [],
   "source": [
    "partition_cols = ['hash_key']"
   ]
  },
  {
   "cell_type": "code",
   "execution_count": 94,
   "id": "bfc539e6",
   "metadata": {},
   "outputs": [],
   "source": [
    "flight_df.to_parquet('results/hash', partition_cols = partition_cols)"
   ]
  },
  {
   "cell_type": "markdown",
   "id": "6515199a",
   "metadata": {},
   "source": [
    "### 7.1.c"
   ]
  },
  {
   "cell_type": "markdown",
   "id": "ab29d49c",
   "metadata": {},
   "source": [
    "**Extracting Locations**"
   ]
  },
  {
   "cell_type": "code",
   "execution_count": 100,
   "id": "444c1971",
   "metadata": {},
   "outputs": [],
   "source": [
    "coords = []\n",
    "\n",
    "for i, row in flight_df.iterrows():\n",
    "    coord = []\n",
    "    lat = row['src_airport']['latitude']\n",
    "    lon = row['src_airport']['longitude']\n",
    "    coord.append(lat)\n",
    "    coord.append(lon)\n",
    "    coords.append(coord)"
   ]
  },
  {
   "cell_type": "code",
   "execution_count": 101,
   "id": "589331a2",
   "metadata": {},
   "outputs": [],
   "source": [
    "flight_df['coordinates'] = coords"
   ]
  },
  {
   "cell_type": "markdown",
   "id": "e86f2b60",
   "metadata": {},
   "source": [
    "**Determining Location**"
   ]
  },
  {
   "cell_type": "code",
   "execution_count": 95,
   "id": "c2439084",
   "metadata": {},
   "outputs": [],
   "source": [
    "west = [45.5945645, -121.1786823]\n",
    "central = [41.1544433, -96.0422378]\n",
    "east = [39.08344, -77.6497145]"
   ]
  },
  {
   "cell_type": "code",
   "execution_count": 105,
   "id": "8a685ecf",
   "metadata": {},
   "outputs": [],
   "source": [
    "def nearest_center(loc):\n",
    "    w = math.dist(loc, west)\n",
    "    c = math.dist(loc, central)\n",
    "    e = math.dist(loc, east)\n",
    "    data = {'west': w, 'central': c, 'east': e}\n",
    "    closest = min(data, key=data.get)\n",
    "    return closest"
   ]
  },
  {
   "cell_type": "code",
   "execution_count": 106,
   "id": "bfa36155",
   "metadata": {},
   "outputs": [],
   "source": [
    "flight_df['location'] = flight_df.coordinates.apply(nearest_center)"
   ]
  },
  {
   "cell_type": "code",
   "execution_count": 110,
   "id": "f0f2b080",
   "metadata": {},
   "outputs": [
    {
     "data": {
      "text/html": [
       "<div>\n",
       "<style scoped>\n",
       "    .dataframe tbody tr th:only-of-type {\n",
       "        vertical-align: middle;\n",
       "    }\n",
       "\n",
       "    .dataframe tbody tr th {\n",
       "        vertical-align: top;\n",
       "    }\n",
       "\n",
       "    .dataframe thead th {\n",
       "        text-align: right;\n",
       "    }\n",
       "</style>\n",
       "<table border=\"1\" class=\"dataframe\">\n",
       "  <thead>\n",
       "    <tr style=\"text-align: right;\">\n",
       "      <th></th>\n",
       "      <th>airline</th>\n",
       "      <th>src_airport</th>\n",
       "      <th>dst_airport</th>\n",
       "      <th>codeshare</th>\n",
       "      <th>equipment</th>\n",
       "      <th>key</th>\n",
       "      <th>kv_key</th>\n",
       "      <th>hashed</th>\n",
       "      <th>hash_key</th>\n",
       "      <th>coordinates</th>\n",
       "      <th>location</th>\n",
       "    </tr>\n",
       "  </thead>\n",
       "  <tbody>\n",
       "    <tr>\n",
       "      <th>0</th>\n",
       "      <td>{'airline_id': 410, 'name': 'Aerocondor', 'ali...</td>\n",
       "      <td>{'airport_id': 2965.0, 'name': 'Sochi Internat...</td>\n",
       "      <td>{'airport_id': 2990.0, 'name': 'Kazan Internat...</td>\n",
       "      <td>False</td>\n",
       "      <td>[CR2]</td>\n",
       "      <td>AERKZN2B</td>\n",
       "      <td>A</td>\n",
       "      <td>652cdec02010381f175efe499e070c8cbaac1522bac59a...</td>\n",
       "      <td>6</td>\n",
       "      <td>[43.449902, 39.9566]</td>\n",
       "      <td>east</td>\n",
       "    </tr>\n",
       "    <tr>\n",
       "      <th>1</th>\n",
       "      <td>{'airline_id': 410, 'name': 'Aerocondor', 'ali...</td>\n",
       "      <td>{'airport_id': 2966.0, 'name': 'Astrakhan Airp...</td>\n",
       "      <td>{'airport_id': 2990.0, 'name': 'Kazan Internat...</td>\n",
       "      <td>False</td>\n",
       "      <td>[CR2]</td>\n",
       "      <td>ASFKZN2B</td>\n",
       "      <td>A</td>\n",
       "      <td>9eea5dd88177f8d835b2bb9cb27fb01268122b635b241a...</td>\n",
       "      <td>9</td>\n",
       "      <td>[46.2832984924, 48.0063018799]</td>\n",
       "      <td>east</td>\n",
       "    </tr>\n",
       "    <tr>\n",
       "      <th>2</th>\n",
       "      <td>{'airline_id': 410, 'name': 'Aerocondor', 'ali...</td>\n",
       "      <td>{'airport_id': 2966.0, 'name': 'Astrakhan Airp...</td>\n",
       "      <td>{'airport_id': 2962.0, 'name': 'Mineralnyye Vo...</td>\n",
       "      <td>False</td>\n",
       "      <td>[CR2]</td>\n",
       "      <td>ASFMRV2B</td>\n",
       "      <td>A</td>\n",
       "      <td>161143856af25bd4475f62c80c19f68936a139f653c1d3...</td>\n",
       "      <td>1</td>\n",
       "      <td>[46.2832984924, 48.0063018799]</td>\n",
       "      <td>east</td>\n",
       "    </tr>\n",
       "    <tr>\n",
       "      <th>3</th>\n",
       "      <td>{'airline_id': 410, 'name': 'Aerocondor', 'ali...</td>\n",
       "      <td>{'airport_id': 2968.0, 'name': 'Chelyabinsk Ba...</td>\n",
       "      <td>{'airport_id': 2990.0, 'name': 'Kazan Internat...</td>\n",
       "      <td>False</td>\n",
       "      <td>[CR2]</td>\n",
       "      <td>CEKKZN2B</td>\n",
       "      <td>C-D</td>\n",
       "      <td>39aa99e6ae2757341bede9584473906ef1089e30820c90...</td>\n",
       "      <td>3</td>\n",
       "      <td>[55.305801, 61.5033]</td>\n",
       "      <td>east</td>\n",
       "    </tr>\n",
       "    <tr>\n",
       "      <th>4</th>\n",
       "      <td>{'airline_id': 410, 'name': 'Aerocondor', 'ali...</td>\n",
       "      <td>{'airport_id': 2968.0, 'name': 'Chelyabinsk Ba...</td>\n",
       "      <td>{'airport_id': 4078.0, 'name': 'Tolmachevo Air...</td>\n",
       "      <td>False</td>\n",
       "      <td>[CR2]</td>\n",
       "      <td>CEKOVB2B</td>\n",
       "      <td>C-D</td>\n",
       "      <td>143b3389bce68eea3a13ac26a9c76c1fa583ec2bd26ea8...</td>\n",
       "      <td>1</td>\n",
       "      <td>[55.305801, 61.5033]</td>\n",
       "      <td>east</td>\n",
       "    </tr>\n",
       "  </tbody>\n",
       "</table>\n",
       "</div>"
      ],
      "text/plain": [
       "                                             airline  \\\n",
       "0  {'airline_id': 410, 'name': 'Aerocondor', 'ali...   \n",
       "1  {'airline_id': 410, 'name': 'Aerocondor', 'ali...   \n",
       "2  {'airline_id': 410, 'name': 'Aerocondor', 'ali...   \n",
       "3  {'airline_id': 410, 'name': 'Aerocondor', 'ali...   \n",
       "4  {'airline_id': 410, 'name': 'Aerocondor', 'ali...   \n",
       "\n",
       "                                         src_airport  \\\n",
       "0  {'airport_id': 2965.0, 'name': 'Sochi Internat...   \n",
       "1  {'airport_id': 2966.0, 'name': 'Astrakhan Airp...   \n",
       "2  {'airport_id': 2966.0, 'name': 'Astrakhan Airp...   \n",
       "3  {'airport_id': 2968.0, 'name': 'Chelyabinsk Ba...   \n",
       "4  {'airport_id': 2968.0, 'name': 'Chelyabinsk Ba...   \n",
       "\n",
       "                                         dst_airport  codeshare equipment  \\\n",
       "0  {'airport_id': 2990.0, 'name': 'Kazan Internat...      False     [CR2]   \n",
       "1  {'airport_id': 2990.0, 'name': 'Kazan Internat...      False     [CR2]   \n",
       "2  {'airport_id': 2962.0, 'name': 'Mineralnyye Vo...      False     [CR2]   \n",
       "3  {'airport_id': 2990.0, 'name': 'Kazan Internat...      False     [CR2]   \n",
       "4  {'airport_id': 4078.0, 'name': 'Tolmachevo Air...      False     [CR2]   \n",
       "\n",
       "        key kv_key                                             hashed  \\\n",
       "0  AERKZN2B      A  652cdec02010381f175efe499e070c8cbaac1522bac59a...   \n",
       "1  ASFKZN2B      A  9eea5dd88177f8d835b2bb9cb27fb01268122b635b241a...   \n",
       "2  ASFMRV2B      A  161143856af25bd4475f62c80c19f68936a139f653c1d3...   \n",
       "3  CEKKZN2B    C-D  39aa99e6ae2757341bede9584473906ef1089e30820c90...   \n",
       "4  CEKOVB2B    C-D  143b3389bce68eea3a13ac26a9c76c1fa583ec2bd26ea8...   \n",
       "\n",
       "  hash_key                     coordinates location  \n",
       "0        6            [43.449902, 39.9566]     east  \n",
       "1        9  [46.2832984924, 48.0063018799]     east  \n",
       "2        1  [46.2832984924, 48.0063018799]     east  \n",
       "3        3            [55.305801, 61.5033]     east  \n",
       "4        1            [55.305801, 61.5033]     east  "
      ]
     },
     "execution_count": 110,
     "metadata": {},
     "output_type": "execute_result"
    }
   ],
   "source": [
    "flight_df.head()"
   ]
  },
  {
   "cell_type": "markdown",
   "id": "38107231",
   "metadata": {},
   "source": [
    "**Partitioning the Data**"
   ]
  },
  {
   "cell_type": "code",
   "execution_count": 108,
   "id": "b15f9450",
   "metadata": {},
   "outputs": [],
   "source": [
    "partition_cols = ['location']"
   ]
  },
  {
   "cell_type": "code",
   "execution_count": 109,
   "id": "b1315480",
   "metadata": {},
   "outputs": [],
   "source": [
    "flight_df.to_parquet('results/geo', partition_cols = partition_cols)"
   ]
  },
  {
   "cell_type": "markdown",
   "id": "9557f8ea",
   "metadata": {},
   "source": [
    "### 7.1.d"
   ]
  },
  {
   "cell_type": "markdown",
   "id": "5c73d401",
   "metadata": {},
   "source": [
    "**Defining the Function**"
   ]
  },
  {
   "cell_type": "code",
   "execution_count": 133,
   "id": "408a8afc",
   "metadata": {},
   "outputs": [],
   "source": [
    "def balance_partitions(keys, num_partitions):\n",
    "    partitions = []\n",
    "    k = len(keys)/num_partitions\n",
    "    for i, row in keys.iterrows():\n",
    "        p = i // k\n",
    "        partitions.append(p)\n",
    "    return(partitions)"
   ]
  },
  {
   "cell_type": "markdown",
   "id": "6aaab15d",
   "metadata": {},
   "source": [
    "**Example: Split Into 23 Partitions**"
   ]
  },
  {
   "cell_type": "code",
   "execution_count": 142,
   "id": "5bc9c164",
   "metadata": {},
   "outputs": [],
   "source": [
    "part_nums = balance_partitions(flight_df, 23)"
   ]
  },
  {
   "cell_type": "code",
   "execution_count": 145,
   "id": "dc7e9b82",
   "metadata": {},
   "outputs": [],
   "source": [
    "flight_df['partition'] = part_nums\n",
    "flight_df['partition'] = flight_df['partition'].astype(int)"
   ]
  },
  {
   "cell_type": "code",
   "execution_count": 146,
   "id": "fcb72e3e",
   "metadata": {},
   "outputs": [
    {
     "data": {
      "text/html": [
       "<div>\n",
       "<style scoped>\n",
       "    .dataframe tbody tr th:only-of-type {\n",
       "        vertical-align: middle;\n",
       "    }\n",
       "\n",
       "    .dataframe tbody tr th {\n",
       "        vertical-align: top;\n",
       "    }\n",
       "\n",
       "    .dataframe thead th {\n",
       "        text-align: right;\n",
       "    }\n",
       "</style>\n",
       "<table border=\"1\" class=\"dataframe\">\n",
       "  <thead>\n",
       "    <tr style=\"text-align: right;\">\n",
       "      <th></th>\n",
       "      <th>airline</th>\n",
       "      <th>src_airport</th>\n",
       "      <th>dst_airport</th>\n",
       "      <th>codeshare</th>\n",
       "      <th>equipment</th>\n",
       "      <th>key</th>\n",
       "      <th>kv_key</th>\n",
       "      <th>hashed</th>\n",
       "      <th>hash_key</th>\n",
       "      <th>coordinates</th>\n",
       "      <th>location</th>\n",
       "      <th>partition</th>\n",
       "    </tr>\n",
       "  </thead>\n",
       "  <tbody>\n",
       "    <tr>\n",
       "      <th>0</th>\n",
       "      <td>{'airline_id': 410, 'name': 'Aerocondor', 'ali...</td>\n",
       "      <td>{'airport_id': 2965.0, 'name': 'Sochi Internat...</td>\n",
       "      <td>{'airport_id': 2990.0, 'name': 'Kazan Internat...</td>\n",
       "      <td>False</td>\n",
       "      <td>[CR2]</td>\n",
       "      <td>AERKZN2B</td>\n",
       "      <td>A</td>\n",
       "      <td>652cdec02010381f175efe499e070c8cbaac1522bac59a...</td>\n",
       "      <td>6</td>\n",
       "      <td>[43.449902, 39.9566]</td>\n",
       "      <td>east</td>\n",
       "      <td>0</td>\n",
       "    </tr>\n",
       "    <tr>\n",
       "      <th>1</th>\n",
       "      <td>{'airline_id': 410, 'name': 'Aerocondor', 'ali...</td>\n",
       "      <td>{'airport_id': 2966.0, 'name': 'Astrakhan Airp...</td>\n",
       "      <td>{'airport_id': 2990.0, 'name': 'Kazan Internat...</td>\n",
       "      <td>False</td>\n",
       "      <td>[CR2]</td>\n",
       "      <td>ASFKZN2B</td>\n",
       "      <td>A</td>\n",
       "      <td>9eea5dd88177f8d835b2bb9cb27fb01268122b635b241a...</td>\n",
       "      <td>9</td>\n",
       "      <td>[46.2832984924, 48.0063018799]</td>\n",
       "      <td>east</td>\n",
       "      <td>0</td>\n",
       "    </tr>\n",
       "    <tr>\n",
       "      <th>2</th>\n",
       "      <td>{'airline_id': 410, 'name': 'Aerocondor', 'ali...</td>\n",
       "      <td>{'airport_id': 2966.0, 'name': 'Astrakhan Airp...</td>\n",
       "      <td>{'airport_id': 2962.0, 'name': 'Mineralnyye Vo...</td>\n",
       "      <td>False</td>\n",
       "      <td>[CR2]</td>\n",
       "      <td>ASFMRV2B</td>\n",
       "      <td>A</td>\n",
       "      <td>161143856af25bd4475f62c80c19f68936a139f653c1d3...</td>\n",
       "      <td>1</td>\n",
       "      <td>[46.2832984924, 48.0063018799]</td>\n",
       "      <td>east</td>\n",
       "      <td>0</td>\n",
       "    </tr>\n",
       "    <tr>\n",
       "      <th>3</th>\n",
       "      <td>{'airline_id': 410, 'name': 'Aerocondor', 'ali...</td>\n",
       "      <td>{'airport_id': 2968.0, 'name': 'Chelyabinsk Ba...</td>\n",
       "      <td>{'airport_id': 2990.0, 'name': 'Kazan Internat...</td>\n",
       "      <td>False</td>\n",
       "      <td>[CR2]</td>\n",
       "      <td>CEKKZN2B</td>\n",
       "      <td>C-D</td>\n",
       "      <td>39aa99e6ae2757341bede9584473906ef1089e30820c90...</td>\n",
       "      <td>3</td>\n",
       "      <td>[55.305801, 61.5033]</td>\n",
       "      <td>east</td>\n",
       "      <td>0</td>\n",
       "    </tr>\n",
       "    <tr>\n",
       "      <th>4</th>\n",
       "      <td>{'airline_id': 410, 'name': 'Aerocondor', 'ali...</td>\n",
       "      <td>{'airport_id': 2968.0, 'name': 'Chelyabinsk Ba...</td>\n",
       "      <td>{'airport_id': 4078.0, 'name': 'Tolmachevo Air...</td>\n",
       "      <td>False</td>\n",
       "      <td>[CR2]</td>\n",
       "      <td>CEKOVB2B</td>\n",
       "      <td>C-D</td>\n",
       "      <td>143b3389bce68eea3a13ac26a9c76c1fa583ec2bd26ea8...</td>\n",
       "      <td>1</td>\n",
       "      <td>[55.305801, 61.5033]</td>\n",
       "      <td>east</td>\n",
       "      <td>0</td>\n",
       "    </tr>\n",
       "  </tbody>\n",
       "</table>\n",
       "</div>"
      ],
      "text/plain": [
       "                                             airline  \\\n",
       "0  {'airline_id': 410, 'name': 'Aerocondor', 'ali...   \n",
       "1  {'airline_id': 410, 'name': 'Aerocondor', 'ali...   \n",
       "2  {'airline_id': 410, 'name': 'Aerocondor', 'ali...   \n",
       "3  {'airline_id': 410, 'name': 'Aerocondor', 'ali...   \n",
       "4  {'airline_id': 410, 'name': 'Aerocondor', 'ali...   \n",
       "\n",
       "                                         src_airport  \\\n",
       "0  {'airport_id': 2965.0, 'name': 'Sochi Internat...   \n",
       "1  {'airport_id': 2966.0, 'name': 'Astrakhan Airp...   \n",
       "2  {'airport_id': 2966.0, 'name': 'Astrakhan Airp...   \n",
       "3  {'airport_id': 2968.0, 'name': 'Chelyabinsk Ba...   \n",
       "4  {'airport_id': 2968.0, 'name': 'Chelyabinsk Ba...   \n",
       "\n",
       "                                         dst_airport  codeshare equipment  \\\n",
       "0  {'airport_id': 2990.0, 'name': 'Kazan Internat...      False     [CR2]   \n",
       "1  {'airport_id': 2990.0, 'name': 'Kazan Internat...      False     [CR2]   \n",
       "2  {'airport_id': 2962.0, 'name': 'Mineralnyye Vo...      False     [CR2]   \n",
       "3  {'airport_id': 2990.0, 'name': 'Kazan Internat...      False     [CR2]   \n",
       "4  {'airport_id': 4078.0, 'name': 'Tolmachevo Air...      False     [CR2]   \n",
       "\n",
       "        key kv_key                                             hashed  \\\n",
       "0  AERKZN2B      A  652cdec02010381f175efe499e070c8cbaac1522bac59a...   \n",
       "1  ASFKZN2B      A  9eea5dd88177f8d835b2bb9cb27fb01268122b635b241a...   \n",
       "2  ASFMRV2B      A  161143856af25bd4475f62c80c19f68936a139f653c1d3...   \n",
       "3  CEKKZN2B    C-D  39aa99e6ae2757341bede9584473906ef1089e30820c90...   \n",
       "4  CEKOVB2B    C-D  143b3389bce68eea3a13ac26a9c76c1fa583ec2bd26ea8...   \n",
       "\n",
       "  hash_key                     coordinates location  partition  \n",
       "0        6            [43.449902, 39.9566]     east          0  \n",
       "1        9  [46.2832984924, 48.0063018799]     east          0  \n",
       "2        1  [46.2832984924, 48.0063018799]     east          0  \n",
       "3        3            [55.305801, 61.5033]     east          0  \n",
       "4        1            [55.305801, 61.5033]     east          0  "
      ]
     },
     "execution_count": 146,
     "metadata": {},
     "output_type": "execute_result"
    }
   ],
   "source": [
    "flight_df.head()"
   ]
  },
  {
   "cell_type": "markdown",
   "id": "682f27ce",
   "metadata": {},
   "source": [
    "**Partitioning the Data**"
   ]
  },
  {
   "cell_type": "code",
   "execution_count": 147,
   "id": "f5f38c63",
   "metadata": {},
   "outputs": [],
   "source": [
    "partition_cols = ['partition']"
   ]
  },
  {
   "cell_type": "code",
   "execution_count": 149,
   "id": "6c420fb2",
   "metadata": {},
   "outputs": [],
   "source": [
    "flight_df.to_parquet('results/partition', partition_cols = partition_cols)"
   ]
  }
 ],
 "metadata": {
  "kernelspec": {
   "display_name": "Python 3",
   "language": "python",
   "name": "python3"
  },
  "language_info": {
   "codemirror_mode": {
    "name": "ipython",
    "version": 3
   },
   "file_extension": ".py",
   "mimetype": "text/x-python",
   "name": "python",
   "nbconvert_exporter": "python",
   "pygments_lexer": "ipython3",
   "version": "3.8.3"
  }
 },
 "nbformat": 4,
 "nbformat_minor": 5
}
