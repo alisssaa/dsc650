{
 "cells": [
  {
   "cell_type": "code",
   "execution_count": 1,
   "id": "32997bd2",
   "metadata": {},
   "outputs": [],
   "source": [
    "import pandas as pd\n",
    "import json"
   ]
  },
  {
   "cell_type": "code",
   "execution_count": 22,
   "id": "7faa8a25",
   "metadata": {},
   "outputs": [],
   "source": [
    "site = pd.read_csv('site.csv')\n",
    "site = site.set_index('site_id')"
   ]
  },
  {
   "cell_type": "code",
   "execution_count": 192,
   "id": "a8af870d",
   "metadata": {},
   "outputs": [
    {
     "data": {
      "text/plain": [
       "{'DR-1': {'latitude': -49.85, 'longitude': -128.57},\n",
       " 'DR-3': {'latitude': -47.15, 'longitude': -126.72},\n",
       " 'MSK-4': {'latitude': -48.87, 'longitude': -123.4}}"
      ]
     },
     "execution_count": 192,
     "metadata": {},
     "output_type": "execute_result"
    }
   ],
   "source": [
    "dict1 = site.to_dict(\"index\")\n",
    "dict1"
   ]
  },
  {
   "cell_type": "code",
   "execution_count": 200,
   "id": "d6db6ea6",
   "metadata": {},
   "outputs": [],
   "source": [
    "visit = pd.read_csv('visited.csv')\n",
    "visit = visit.set_index('visit_id')\n",
    "visit = visit.fillna(method='ffill')"
   ]
  },
  {
   "cell_type": "code",
   "execution_count": 201,
   "id": "c7a19311",
   "metadata": {},
   "outputs": [],
   "source": [
    "vals = []\n",
    "\n",
    "for x in visit['site_id']:\n",
    "    pair = {}\n",
    "    y = dict1[x]\n",
    "    pair[x] = y\n",
    "    vals.append(pair)"
   ]
  },
  {
   "cell_type": "code",
   "execution_count": 202,
   "id": "38701ffe",
   "metadata": {},
   "outputs": [
    {
     "data": {
      "text/plain": [
       "{'DR-1': {'latitude': -49.85, 'longitude': -128.57},\n",
       " 'DR-3': {'latitude': -47.15, 'longitude': -126.72},\n",
       " 'MSK-4': {'latitude': -48.87, 'longitude': -123.4}}"
      ]
     },
     "execution_count": 202,
     "metadata": {},
     "output_type": "execute_result"
    }
   ],
   "source": [
    "dict1"
   ]
  },
  {
   "cell_type": "code",
   "execution_count": 203,
   "id": "0bda9b11",
   "metadata": {},
   "outputs": [],
   "source": [
    "visit['site_id'] = vals"
   ]
  },
  {
   "cell_type": "code",
   "execution_count": 199,
   "id": "07d609b0",
   "metadata": {},
   "outputs": [
    {
     "data": {
      "text/html": [
       "<div>\n",
       "<style scoped>\n",
       "    .dataframe tbody tr th:only-of-type {\n",
       "        vertical-align: middle;\n",
       "    }\n",
       "\n",
       "    .dataframe tbody tr th {\n",
       "        vertical-align: top;\n",
       "    }\n",
       "\n",
       "    .dataframe thead th {\n",
       "        text-align: right;\n",
       "    }\n",
       "</style>\n",
       "<table border=\"1\" class=\"dataframe\">\n",
       "  <thead>\n",
       "    <tr style=\"text-align: right;\">\n",
       "      <th></th>\n",
       "      <th>site_id</th>\n",
       "      <th>visit_date</th>\n",
       "    </tr>\n",
       "    <tr>\n",
       "      <th>visit_id</th>\n",
       "      <th></th>\n",
       "      <th></th>\n",
       "    </tr>\n",
       "  </thead>\n",
       "  <tbody>\n",
       "    <tr>\n",
       "      <th>619</th>\n",
       "      <td>{'DR-1': {'latitude': -49.85, 'longitude': -12...</td>\n",
       "      <td>1927-02-08</td>\n",
       "    </tr>\n",
       "    <tr>\n",
       "      <th>622</th>\n",
       "      <td>{'DR-1': {'latitude': -49.85, 'longitude': -12...</td>\n",
       "      <td>1927-02-10</td>\n",
       "    </tr>\n",
       "    <tr>\n",
       "      <th>734</th>\n",
       "      <td>{'DR-3': {'latitude': -47.15, 'longitude': -12...</td>\n",
       "      <td>1930-01-07</td>\n",
       "    </tr>\n",
       "    <tr>\n",
       "      <th>735</th>\n",
       "      <td>{'DR-3': {'latitude': -47.15, 'longitude': -12...</td>\n",
       "      <td>1930-01-12</td>\n",
       "    </tr>\n",
       "    <tr>\n",
       "      <th>751</th>\n",
       "      <td>{'DR-3': {'latitude': -47.15, 'longitude': -12...</td>\n",
       "      <td>1930-02-26</td>\n",
       "    </tr>\n",
       "    <tr>\n",
       "      <th>752</th>\n",
       "      <td>{'DR-3': {'latitude': -47.15, 'longitude': -12...</td>\n",
       "      <td>NaN</td>\n",
       "    </tr>\n",
       "    <tr>\n",
       "      <th>837</th>\n",
       "      <td>{'MSK-4': {'latitude': -48.87, 'longitude': -1...</td>\n",
       "      <td>1932-01-14</td>\n",
       "    </tr>\n",
       "    <tr>\n",
       "      <th>844</th>\n",
       "      <td>{'DR-1': {'latitude': -49.85, 'longitude': -12...</td>\n",
       "      <td>1932-03-22</td>\n",
       "    </tr>\n",
       "  </tbody>\n",
       "</table>\n",
       "</div>"
      ],
      "text/plain": [
       "                                                    site_id  visit_date\n",
       "visit_id                                                               \n",
       "619       {'DR-1': {'latitude': -49.85, 'longitude': -12...  1927-02-08\n",
       "622       {'DR-1': {'latitude': -49.85, 'longitude': -12...  1927-02-10\n",
       "734       {'DR-3': {'latitude': -47.15, 'longitude': -12...  1930-01-07\n",
       "735       {'DR-3': {'latitude': -47.15, 'longitude': -12...  1930-01-12\n",
       "751       {'DR-3': {'latitude': -47.15, 'longitude': -12...  1930-02-26\n",
       "752       {'DR-3': {'latitude': -47.15, 'longitude': -12...         NaN\n",
       "837       {'MSK-4': {'latitude': -48.87, 'longitude': -1...  1932-01-14\n",
       "844       {'DR-1': {'latitude': -49.85, 'longitude': -12...  1932-03-22"
      ]
     },
     "execution_count": 199,
     "metadata": {},
     "output_type": "execute_result"
    }
   ],
   "source": [
    "visit"
   ]
  },
  {
   "cell_type": "code",
   "execution_count": 160,
   "id": "a86c8673",
   "metadata": {},
   "outputs": [],
   "source": [
    "meas = pd.read_csv('measurements.csv')\n",
    "meas2 = meas.groupby('visit_id')[['quantity','reading']].apply(lambda x: x.to_dict(orient='index')).to_dict()"
   ]
  },
  {
   "cell_type": "code",
   "execution_count": 161,
   "id": "39be6d35",
   "metadata": {},
   "outputs": [
    {
     "data": {
      "text/plain": [
       "{0: {'quantity': 'rad', 'reading': 9.82},\n",
       " 1: {'quantity': 'sal', 'reading': 0.13}}"
      ]
     },
     "execution_count": 161,
     "metadata": {},
     "output_type": "execute_result"
    }
   ],
   "source": [
    "meas2[619]"
   ]
  },
  {
   "cell_type": "code",
   "execution_count": 162,
   "id": "a486aa74",
   "metadata": {},
   "outputs": [],
   "source": [
    "measures = []\n",
    "for k, v in meas2.items():\n",
    "    measures.append(v)"
   ]
  },
  {
   "cell_type": "code",
   "execution_count": 210,
   "id": "a91aa6cd",
   "metadata": {},
   "outputs": [
    {
     "data": {
      "text/plain": [
       "{0: {'quantity': 'rad', 'reading': 9.82},\n",
       " 1: {'quantity': 'sal', 'reading': 0.13}}"
      ]
     },
     "execution_count": 210,
     "metadata": {},
     "output_type": "execute_result"
    }
   ],
   "source": [
    "measures[0]"
   ]
  },
  {
   "cell_type": "code",
   "execution_count": 208,
   "id": "0dcbcd14",
   "metadata": {},
   "outputs": [
    {
     "data": {
      "text/plain": [
       "{619: {0: {'quantity': 'rad', 'reading': 9.82},\n",
       "  1: {'quantity': 'sal', 'reading': 0.13}},\n",
       " 622: {2: {'quantity': 'rad', 'reading': 7.8},\n",
       "  3: {'quantity': 'sal', 'reading': 0.09}},\n",
       " 734: {4: {'quantity': 'rad', 'reading': 8.41},\n",
       "  5: {'quantity': 'sal', 'reading': 0.05},\n",
       "  6: {'quantity': 'temp', 'reading': -21.5}},\n",
       " 735: {7: {'quantity': 'rad', 'reading': 7.22},\n",
       "  8: {'quantity': 'sal', 'reading': 0.06},\n",
       "  9: {'quantity': 'temp', 'reading': -26.0}},\n",
       " 751: {10: {'quantity': 'rad', 'reading': 4.35},\n",
       "  11: {'quantity': 'temp', 'reading': -18.5}},\n",
       " 752: {12: {'quantity': 'rad', 'reading': 2.19},\n",
       "  13: {'quantity': 'sal', 'reading': 0.09},\n",
       "  14: {'quantity': 'temp', 'reading': -16.0},\n",
       "  15: {'quantity': 'sal', 'reading': 41.6}},\n",
       " 837: {16: {'quantity': 'rad', 'reading': 1.46},\n",
       "  17: {'quantity': 'sal', 'reading': 0.21},\n",
       "  18: {'quantity': 'sal', 'reading': 22.5}},\n",
       " 844: {19: {'quantity': 'rad', 'reading': 11.25}}}"
      ]
     },
     "execution_count": 208,
     "metadata": {},
     "output_type": "execute_result"
    }
   ],
   "source": [
    "meas2"
   ]
  },
  {
   "cell_type": "code",
   "execution_count": 207,
   "id": "c333d98c",
   "metadata": {},
   "outputs": [
    {
     "ename": "TypeError",
     "evalue": "cannot unpack non-iterable int object",
     "output_type": "error",
     "traceback": [
      "\u001b[0;31m---------------------------------------------------------------------------\u001b[0m",
      "\u001b[0;31mTypeError\u001b[0m                                 Traceback (most recent call last)",
      "\u001b[0;32m<ipython-input-207-3c1d4ce00b76>\u001b[0m in \u001b[0;36m<module>\u001b[0;34m\u001b[0m\n\u001b[1;32m      1\u001b[0m \u001b[0;32mfor\u001b[0m \u001b[0mk\u001b[0m\u001b[0;34m,\u001b[0m \u001b[0mv\u001b[0m \u001b[0;32min\u001b[0m \u001b[0mmeas2\u001b[0m\u001b[0;34m.\u001b[0m\u001b[0mitems\u001b[0m\u001b[0;34m(\u001b[0m\u001b[0;34m)\u001b[0m\u001b[0;34m:\u001b[0m\u001b[0;34m\u001b[0m\u001b[0;34m\u001b[0m\u001b[0m\n\u001b[0;32m----> 2\u001b[0;31m     \u001b[0;32mfor\u001b[0m \u001b[0mx\u001b[0m\u001b[0;34m,\u001b[0m \u001b[0my\u001b[0m \u001b[0;32min\u001b[0m \u001b[0mv\u001b[0m\u001b[0;34m:\u001b[0m\u001b[0;34m\u001b[0m\u001b[0;34m\u001b[0m\u001b[0m\n\u001b[0m\u001b[1;32m      3\u001b[0m         \u001b[0mprint\u001b[0m\u001b[0;34m(\u001b[0m\u001b[0mx\u001b[0m\u001b[0;34m)\u001b[0m\u001b[0;34m\u001b[0m\u001b[0;34m\u001b[0m\u001b[0m\n",
      "\u001b[0;31mTypeError\u001b[0m: cannot unpack non-iterable int object"
     ]
    }
   ],
   "source": [
    "for k, v in meas2.items():\n",
    "    for x, y in v:\n",
    "        print(x)"
   ]
  },
  {
   "cell_type": "code",
   "execution_count": 158,
   "id": "1c1e82eb",
   "metadata": {},
   "outputs": [
    {
     "data": {
      "text/html": [
       "<div>\n",
       "<style scoped>\n",
       "    .dataframe tbody tr th:only-of-type {\n",
       "        vertical-align: middle;\n",
       "    }\n",
       "\n",
       "    .dataframe tbody tr th {\n",
       "        vertical-align: top;\n",
       "    }\n",
       "\n",
       "    .dataframe thead th {\n",
       "        text-align: right;\n",
       "    }\n",
       "</style>\n",
       "<table border=\"1\" class=\"dataframe\">\n",
       "  <thead>\n",
       "    <tr style=\"text-align: right;\">\n",
       "      <th></th>\n",
       "      <th>site_id</th>\n",
       "      <th>visit_date</th>\n",
       "      <th>readings</th>\n",
       "    </tr>\n",
       "    <tr>\n",
       "      <th>visit_id</th>\n",
       "      <th></th>\n",
       "      <th></th>\n",
       "      <th></th>\n",
       "    </tr>\n",
       "  </thead>\n",
       "  <tbody>\n",
       "    <tr>\n",
       "      <th>619</th>\n",
       "      <td>{'DR-1': {'latitude': -49.85, 'longitude': -12...</td>\n",
       "      <td>1927-02-08</td>\n",
       "      <td>{0: {'quantity': 'rad', 'reading': 9.82}, 1: {...</td>\n",
       "    </tr>\n",
       "    <tr>\n",
       "      <th>622</th>\n",
       "      <td>{'DR-1': {'latitude': -49.85, 'longitude': -12...</td>\n",
       "      <td>1927-02-10</td>\n",
       "      <td>{2: {'quantity': 'rad', 'reading': 7.8}, 3: {'...</td>\n",
       "    </tr>\n",
       "    <tr>\n",
       "      <th>734</th>\n",
       "      <td>{'DR-3': {'latitude': -47.15, 'longitude': -12...</td>\n",
       "      <td>1930-01-07</td>\n",
       "      <td>{4: {'quantity': 'rad', 'reading': 8.41}, 5: {...</td>\n",
       "    </tr>\n",
       "    <tr>\n",
       "      <th>735</th>\n",
       "      <td>{'DR-3': {'latitude': -47.15, 'longitude': -12...</td>\n",
       "      <td>1930-01-12</td>\n",
       "      <td>{7: {'quantity': 'rad', 'reading': 7.22}, 8: {...</td>\n",
       "    </tr>\n",
       "    <tr>\n",
       "      <th>751</th>\n",
       "      <td>{'DR-3': {'latitude': -47.15, 'longitude': -12...</td>\n",
       "      <td>1930-02-26</td>\n",
       "      <td>{10: {'quantity': 'rad', 'reading': 4.35}, 11:...</td>\n",
       "    </tr>\n",
       "    <tr>\n",
       "      <th>752</th>\n",
       "      <td>{'DR-3': {'latitude': -47.15, 'longitude': -12...</td>\n",
       "      <td>NaN</td>\n",
       "      <td>{12: {'quantity': 'rad', 'reading': 2.19}, 13:...</td>\n",
       "    </tr>\n",
       "    <tr>\n",
       "      <th>837</th>\n",
       "      <td>{'MSK-4': {'latitude': -48.87, 'longitude': -1...</td>\n",
       "      <td>1932-01-14</td>\n",
       "      <td>{16: {'quantity': 'rad', 'reading': 1.46}, 17:...</td>\n",
       "    </tr>\n",
       "    <tr>\n",
       "      <th>844</th>\n",
       "      <td>{'DR-1': {'latitude': -49.85, 'longitude': -12...</td>\n",
       "      <td>1932-03-22</td>\n",
       "      <td>{19: {'quantity': 'rad', 'reading': 11.25}}</td>\n",
       "    </tr>\n",
       "  </tbody>\n",
       "</table>\n",
       "</div>"
      ],
      "text/plain": [
       "                                                    site_id  visit_date  \\\n",
       "visit_id                                                                  \n",
       "619       {'DR-1': {'latitude': -49.85, 'longitude': -12...  1927-02-08   \n",
       "622       {'DR-1': {'latitude': -49.85, 'longitude': -12...  1927-02-10   \n",
       "734       {'DR-3': {'latitude': -47.15, 'longitude': -12...  1930-01-07   \n",
       "735       {'DR-3': {'latitude': -47.15, 'longitude': -12...  1930-01-12   \n",
       "751       {'DR-3': {'latitude': -47.15, 'longitude': -12...  1930-02-26   \n",
       "752       {'DR-3': {'latitude': -47.15, 'longitude': -12...         NaN   \n",
       "837       {'MSK-4': {'latitude': -48.87, 'longitude': -1...  1932-01-14   \n",
       "844       {'DR-1': {'latitude': -49.85, 'longitude': -12...  1932-03-22   \n",
       "\n",
       "                                                   readings  \n",
       "visit_id                                                     \n",
       "619       {0: {'quantity': 'rad', 'reading': 9.82}, 1: {...  \n",
       "622       {2: {'quantity': 'rad', 'reading': 7.8}, 3: {'...  \n",
       "734       {4: {'quantity': 'rad', 'reading': 8.41}, 5: {...  \n",
       "735       {7: {'quantity': 'rad', 'reading': 7.22}, 8: {...  \n",
       "751       {10: {'quantity': 'rad', 'reading': 4.35}, 11:...  \n",
       "752       {12: {'quantity': 'rad', 'reading': 2.19}, 13:...  \n",
       "837       {16: {'quantity': 'rad', 'reading': 1.46}, 17:...  \n",
       "844             {19: {'quantity': 'rad', 'reading': 11.25}}  "
      ]
     },
     "execution_count": 158,
     "metadata": {},
     "output_type": "execute_result"
    }
   ],
   "source": [
    "visit['readings'] = measures\n",
    "visit"
   ]
  },
  {
   "cell_type": "code",
   "execution_count": 212,
   "id": "f4bba61c",
   "metadata": {},
   "outputs": [
    {
     "data": {
      "text/html": [
       "<div>\n",
       "<style scoped>\n",
       "    .dataframe tbody tr th:only-of-type {\n",
       "        vertical-align: middle;\n",
       "    }\n",
       "\n",
       "    .dataframe tbody tr th {\n",
       "        vertical-align: top;\n",
       "    }\n",
       "\n",
       "    .dataframe thead th {\n",
       "        text-align: right;\n",
       "    }\n",
       "</style>\n",
       "<table border=\"1\" class=\"dataframe\">\n",
       "  <thead>\n",
       "    <tr style=\"text-align: right;\">\n",
       "      <th></th>\n",
       "      <th>person_id</th>\n",
       "      <th>personal_name</th>\n",
       "      <th>family_name</th>\n",
       "    </tr>\n",
       "  </thead>\n",
       "  <tbody>\n",
       "    <tr>\n",
       "      <th>0</th>\n",
       "      <td>dyer</td>\n",
       "      <td>William</td>\n",
       "      <td>Dyer</td>\n",
       "    </tr>\n",
       "    <tr>\n",
       "      <th>1</th>\n",
       "      <td>pb</td>\n",
       "      <td>Frank</td>\n",
       "      <td>Pabodie</td>\n",
       "    </tr>\n",
       "    <tr>\n",
       "      <th>2</th>\n",
       "      <td>lake</td>\n",
       "      <td>Anderson</td>\n",
       "      <td>Lake</td>\n",
       "    </tr>\n",
       "    <tr>\n",
       "      <th>3</th>\n",
       "      <td>roe</td>\n",
       "      <td>Valentina</td>\n",
       "      <td>Roerich</td>\n",
       "    </tr>\n",
       "    <tr>\n",
       "      <th>4</th>\n",
       "      <td>danforth</td>\n",
       "      <td>Frank</td>\n",
       "      <td>Danforth</td>\n",
       "    </tr>\n",
       "  </tbody>\n",
       "</table>\n",
       "</div>"
      ],
      "text/plain": [
       "  person_id personal_name family_name\n",
       "0      dyer       William        Dyer\n",
       "1        pb         Frank     Pabodie\n",
       "2      lake      Anderson        Lake\n",
       "3       roe     Valentina     Roerich\n",
       "4  danforth         Frank    Danforth"
      ]
     },
     "execution_count": 212,
     "metadata": {},
     "output_type": "execute_result"
    }
   ],
   "source": [
    "person = pd.read_csv('person.csv')\n",
    "person"
   ]
  },
  {
   "cell_type": "code",
   "execution_count": 219,
   "id": "c16a81d0",
   "metadata": {},
   "outputs": [
    {
     "name": "stdout",
     "output_type": "stream",
     "text": [
      "dyer\n",
      "dyer\n",
      "pb\n",
      "pb\n",
      "pb\n",
      "lake\n",
      "lake\n",
      "roe\n"
     ]
    }
   ],
   "source": [
    "people = []\n",
    "ids = []\n",
    "personal_name = []\n",
    "family_name = []\n",
    "\n",
    "for i, r in person.iterrows():\n",
    "    for index, row in meas.iterrows():\n",
    "        if row['visit_id'] not in ids:\n",
    "            ids.append(row['visit_id'])\n",
    "            people.append(row['person_id'])\n",
    "            personal_name.append(r['personal_name'])\n",
    "            family_name.append(r['family_name'])\n",
    "            print(row['person_id'])"
   ]
  },
  {
   "cell_type": "code",
   "execution_count": 221,
   "id": "b280e501",
   "metadata": {},
   "outputs": [
    {
     "data": {
      "text/plain": [
       "['William',\n",
       " 'William',\n",
       " 'William',\n",
       " 'William',\n",
       " 'William',\n",
       " 'William',\n",
       " 'William',\n",
       " 'William']"
      ]
     },
     "execution_count": 221,
     "metadata": {},
     "output_type": "execute_result"
    }
   ],
   "source": [
    "personal_name"
   ]
  },
  {
   "cell_type": "code",
   "execution_count": 183,
   "id": "4539b07e",
   "metadata": {},
   "outputs": [],
   "source": [
    "v = visit.reset_index()\n",
    "v['person_id'] = people"
   ]
  },
  {
   "cell_type": "code",
   "execution_count": 184,
   "id": "c4f542c3",
   "metadata": {},
   "outputs": [
    {
     "data": {
      "text/html": [
       "<div>\n",
       "<style scoped>\n",
       "    .dataframe tbody tr th:only-of-type {\n",
       "        vertical-align: middle;\n",
       "    }\n",
       "\n",
       "    .dataframe tbody tr th {\n",
       "        vertical-align: top;\n",
       "    }\n",
       "\n",
       "    .dataframe thead th {\n",
       "        text-align: right;\n",
       "    }\n",
       "</style>\n",
       "<table border=\"1\" class=\"dataframe\">\n",
       "  <thead>\n",
       "    <tr style=\"text-align: right;\">\n",
       "      <th></th>\n",
       "      <th>visit_id</th>\n",
       "      <th>site_id</th>\n",
       "      <th>visit_date</th>\n",
       "      <th>readings</th>\n",
       "      <th>person_id</th>\n",
       "    </tr>\n",
       "  </thead>\n",
       "  <tbody>\n",
       "    <tr>\n",
       "      <th>0</th>\n",
       "      <td>619</td>\n",
       "      <td>{'DR-1': {'latitude': -49.85, 'longitude': -12...</td>\n",
       "      <td>1927-02-08</td>\n",
       "      <td>{0: {'quantity': 'rad', 'reading': 9.82}, 1: {...</td>\n",
       "      <td>dyer</td>\n",
       "    </tr>\n",
       "    <tr>\n",
       "      <th>1</th>\n",
       "      <td>622</td>\n",
       "      <td>{'DR-1': {'latitude': -49.85, 'longitude': -12...</td>\n",
       "      <td>1927-02-10</td>\n",
       "      <td>{2: {'quantity': 'rad', 'reading': 7.8}, 3: {'...</td>\n",
       "      <td>dyer</td>\n",
       "    </tr>\n",
       "    <tr>\n",
       "      <th>2</th>\n",
       "      <td>734</td>\n",
       "      <td>{'DR-3': {'latitude': -47.15, 'longitude': -12...</td>\n",
       "      <td>1930-01-07</td>\n",
       "      <td>{4: {'quantity': 'rad', 'reading': 8.41}, 5: {...</td>\n",
       "      <td>pb</td>\n",
       "    </tr>\n",
       "    <tr>\n",
       "      <th>3</th>\n",
       "      <td>735</td>\n",
       "      <td>{'DR-3': {'latitude': -47.15, 'longitude': -12...</td>\n",
       "      <td>1930-01-12</td>\n",
       "      <td>{7: {'quantity': 'rad', 'reading': 7.22}, 8: {...</td>\n",
       "      <td>pb</td>\n",
       "    </tr>\n",
       "    <tr>\n",
       "      <th>4</th>\n",
       "      <td>751</td>\n",
       "      <td>{'DR-3': {'latitude': -47.15, 'longitude': -12...</td>\n",
       "      <td>1930-02-26</td>\n",
       "      <td>{10: {'quantity': 'rad', 'reading': 4.35}, 11:...</td>\n",
       "      <td>pb</td>\n",
       "    </tr>\n",
       "    <tr>\n",
       "      <th>5</th>\n",
       "      <td>752</td>\n",
       "      <td>{'DR-3': {'latitude': -47.15, 'longitude': -12...</td>\n",
       "      <td>NaN</td>\n",
       "      <td>{12: {'quantity': 'rad', 'reading': 2.19}, 13:...</td>\n",
       "      <td>lake</td>\n",
       "    </tr>\n",
       "    <tr>\n",
       "      <th>6</th>\n",
       "      <td>837</td>\n",
       "      <td>{'MSK-4': {'latitude': -48.87, 'longitude': -1...</td>\n",
       "      <td>1932-01-14</td>\n",
       "      <td>{16: {'quantity': 'rad', 'reading': 1.46}, 17:...</td>\n",
       "      <td>lake</td>\n",
       "    </tr>\n",
       "    <tr>\n",
       "      <th>7</th>\n",
       "      <td>844</td>\n",
       "      <td>{'DR-1': {'latitude': -49.85, 'longitude': -12...</td>\n",
       "      <td>1932-03-22</td>\n",
       "      <td>{19: {'quantity': 'rad', 'reading': 11.25}}</td>\n",
       "      <td>roe</td>\n",
       "    </tr>\n",
       "  </tbody>\n",
       "</table>\n",
       "</div>"
      ],
      "text/plain": [
       "   visit_id                                            site_id  visit_date  \\\n",
       "0       619  {'DR-1': {'latitude': -49.85, 'longitude': -12...  1927-02-08   \n",
       "1       622  {'DR-1': {'latitude': -49.85, 'longitude': -12...  1927-02-10   \n",
       "2       734  {'DR-3': {'latitude': -47.15, 'longitude': -12...  1930-01-07   \n",
       "3       735  {'DR-3': {'latitude': -47.15, 'longitude': -12...  1930-01-12   \n",
       "4       751  {'DR-3': {'latitude': -47.15, 'longitude': -12...  1930-02-26   \n",
       "5       752  {'DR-3': {'latitude': -47.15, 'longitude': -12...         NaN   \n",
       "6       837  {'MSK-4': {'latitude': -48.87, 'longitude': -1...  1932-01-14   \n",
       "7       844  {'DR-1': {'latitude': -49.85, 'longitude': -12...  1932-03-22   \n",
       "\n",
       "                                            readings person_id  \n",
       "0  {0: {'quantity': 'rad', 'reading': 9.82}, 1: {...      dyer  \n",
       "1  {2: {'quantity': 'rad', 'reading': 7.8}, 3: {'...      dyer  \n",
       "2  {4: {'quantity': 'rad', 'reading': 8.41}, 5: {...        pb  \n",
       "3  {7: {'quantity': 'rad', 'reading': 7.22}, 8: {...        pb  \n",
       "4  {10: {'quantity': 'rad', 'reading': 4.35}, 11:...        pb  \n",
       "5  {12: {'quantity': 'rad', 'reading': 2.19}, 13:...      lake  \n",
       "6  {16: {'quantity': 'rad', 'reading': 1.46}, 17:...      lake  \n",
       "7        {19: {'quantity': 'rad', 'reading': 11.25}}       roe  "
      ]
     },
     "execution_count": 184,
     "metadata": {},
     "output_type": "execute_result"
    }
   ],
   "source": [
    "v"
   ]
  },
  {
   "cell_type": "code",
   "execution_count": 185,
   "id": "ed787624",
   "metadata": {},
   "outputs": [
    {
     "data": {
      "text/plain": [
       "{'dyer': {0: {'visit_id': 619,\n",
       "   'visit_date': '1927-02-08',\n",
       "   'site_id': {'DR-1': {'latitude': -49.85, 'longitude': -128.57}},\n",
       "   'readings': {0: {'quantity': 'rad', 'reading': 9.82},\n",
       "    1: {'quantity': 'sal', 'reading': 0.13}}},\n",
       "  1: {'visit_id': 622,\n",
       "   'visit_date': '1927-02-10',\n",
       "   'site_id': {'DR-1': {'latitude': -49.85, 'longitude': -128.57}},\n",
       "   'readings': {2: {'quantity': 'rad', 'reading': 7.8},\n",
       "    3: {'quantity': 'sal', 'reading': 0.09}}}},\n",
       " 'lake': {5: {'visit_id': 752,\n",
       "   'visit_date': nan,\n",
       "   'site_id': {'DR-3': {'latitude': -47.15, 'longitude': -126.72}},\n",
       "   'readings': {12: {'quantity': 'rad', 'reading': 2.19},\n",
       "    13: {'quantity': 'sal', 'reading': 0.09},\n",
       "    14: {'quantity': 'temp', 'reading': -16.0},\n",
       "    15: {'quantity': 'sal', 'reading': 41.6}}},\n",
       "  6: {'visit_id': 837,\n",
       "   'visit_date': '1932-01-14',\n",
       "   'site_id': {'MSK-4': {'latitude': -48.87, 'longitude': -123.4}},\n",
       "   'readings': {16: {'quantity': 'rad', 'reading': 1.46},\n",
       "    17: {'quantity': 'sal', 'reading': 0.21},\n",
       "    18: {'quantity': 'sal', 'reading': 22.5}}}},\n",
       " 'pb': {2: {'visit_id': 734,\n",
       "   'visit_date': '1930-01-07',\n",
       "   'site_id': {'DR-3': {'latitude': -47.15, 'longitude': -126.72}},\n",
       "   'readings': {4: {'quantity': 'rad', 'reading': 8.41},\n",
       "    5: {'quantity': 'sal', 'reading': 0.05},\n",
       "    6: {'quantity': 'temp', 'reading': -21.5}}},\n",
       "  3: {'visit_id': 735,\n",
       "   'visit_date': '1930-01-12',\n",
       "   'site_id': {'DR-3': {'latitude': -47.15, 'longitude': -126.72}},\n",
       "   'readings': {7: {'quantity': 'rad', 'reading': 7.22},\n",
       "    8: {'quantity': 'sal', 'reading': 0.06},\n",
       "    9: {'quantity': 'temp', 'reading': -26.0}}},\n",
       "  4: {'visit_id': 751,\n",
       "   'visit_date': '1930-02-26',\n",
       "   'site_id': {'DR-3': {'latitude': -47.15, 'longitude': -126.72}},\n",
       "   'readings': {10: {'quantity': 'rad', 'reading': 4.35},\n",
       "    11: {'quantity': 'temp', 'reading': -18.5}}}},\n",
       " 'roe': {7: {'visit_id': 844,\n",
       "   'visit_date': '1932-03-22',\n",
       "   'site_id': {'DR-1': {'latitude': -49.85, 'longitude': -128.57}},\n",
       "   'readings': {19: {'quantity': 'rad', 'reading': 11.25}}}}}"
      ]
     },
     "execution_count": 185,
     "metadata": {},
     "output_type": "execute_result"
    }
   ],
   "source": [
    "v = v.groupby('person_id')[['visit_id','visit_date', 'site_id', 'readings']].apply(lambda x: x.to_dict(orient='index')).to_dict()\n",
    "v"
   ]
  },
  {
   "cell_type": "code",
   "execution_count": null,
   "id": "f094393a",
   "metadata": {},
   "outputs": [],
   "source": []
  }
 ],
 "metadata": {
  "kernelspec": {
   "display_name": "Python 3",
   "language": "python",
   "name": "python3"
  },
  "language_info": {
   "codemirror_mode": {
    "name": "ipython",
    "version": 3
   },
   "file_extension": ".py",
   "mimetype": "text/x-python",
   "name": "python",
   "nbconvert_exporter": "python",
   "pygments_lexer": "ipython3",
   "version": "3.8.3"
  }
 },
 "nbformat": 4,
 "nbformat_minor": 5
}
