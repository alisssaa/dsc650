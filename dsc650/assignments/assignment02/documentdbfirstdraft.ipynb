{
 "cells": [
  {
   "cell_type": "code",
   "execution_count": 17,
   "metadata": {},
   "outputs": [],
   "source": [
    "from pathlib import Path\n",
    "import json\n",
    "import os\n",
    "import pandas as pd\n",
    "\n",
    "from tinydb import TinyDB, Query\n",
    "\n",
    "current_dir = Path(os.getcwd()).absolute()\n",
    "results_dir = current_dir.joinpath('results')\n",
    "kv_data_dir = results_dir.joinpath('kvdb')\n",
    "kv_data_dir.mkdir(parents=True, exist_ok=True)"
   ]
  },
  {
   "cell_type": "code",
   "execution_count": 18,
   "metadata": {},
   "outputs": [],
   "source": [
    "ppl = pd.read_csv(\"person.csv\")\n",
    "meas = pd.read_csv(\"measurements.csv\")\n",
    "sites = pd.read_csv(\"site.csv\")\n",
    "vis = pd.read_csv(\"visited.csv\")\n",
    "vis = vis.fillna(method='ffill')"
   ]
  },
  {
   "cell_type": "code",
   "execution_count": 19,
   "metadata": {},
   "outputs": [],
   "source": [
    "ppl = ppl.to_dict('records')\n",
    "meas = meas.to_dict('records')\n",
    "sites = sites.to_dict('records')\n",
    "vis = vis.to_dict('records')"
   ]
  },
  {
   "cell_type": "code",
   "execution_count": 20,
   "metadata": {},
   "outputs": [
    {
     "data": {
      "text/plain": [
       "[29, 30, 31, 32, 33, 34, 35, 36]"
      ]
     },
     "execution_count": 20,
     "metadata": {},
     "output_type": "execute_result"
    }
   ],
   "source": [
    "db = TinyDB('results/patient_info.json')\n",
    "db.insert_multiple(ppl)\n",
    "db.insert_multiple(meas)\n",
    "db.insert_multiple(sites)\n",
    "db.insert_multiple(vis)"
   ]
  }
 ],
 "metadata": {
  "kernelspec": {
   "display_name": "Python 3",
   "language": "python",
   "name": "python3"
  },
  "language_info": {
   "codemirror_mode": {
    "name": "ipython",
    "version": 3
   },
   "file_extension": ".py",
   "mimetype": "text/x-python",
   "name": "python",
   "nbconvert_exporter": "python",
   "pygments_lexer": "ipython3",
   "version": "3.8.3"
  }
 },
 "nbformat": 4,
 "nbformat_minor": 4
}
