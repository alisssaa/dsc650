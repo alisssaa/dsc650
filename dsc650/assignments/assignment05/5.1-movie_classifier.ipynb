{
 "cells": [
  {
   "cell_type": "markdown",
   "id": "2c8f9021",
   "metadata": {},
   "source": [
    "### Assignment 5.1: IMDB Movie Classifier"
   ]
  },
  {
   "cell_type": "code",
   "execution_count": 25,
   "id": "2c75907b",
   "metadata": {},
   "outputs": [],
   "source": [
    "import numpy as np\n",
    "import matplotlib.pyplot as plt\n",
    "\n",
    "from keras import models\n",
    "from keras import layers\n",
    "from tensorflow.keras import optimizers\n",
    "from keras.datasets import imdb\n",
    "from keras import losses\n",
    "from keras import metrics"
   ]
  },
  {
   "cell_type": "code",
   "execution_count": 2,
   "id": "7eee8f46",
   "metadata": {},
   "outputs": [],
   "source": [
    "(train_data, train_labels), (test_data, test_labels) = imdb.load_data(num_words=10000)"
   ]
  },
  {
   "cell_type": "markdown",
   "id": "3697d7ff",
   "metadata": {},
   "source": [
    "**Vectorize Data**"
   ]
  },
  {
   "cell_type": "code",
   "execution_count": 6,
   "id": "7d44f677",
   "metadata": {},
   "outputs": [],
   "source": [
    "def vectorize_sequences(sequences, dimension=10000):\n",
    "    results = np.zeros((len(sequences), dimension))\n",
    "    for i, sequence in enumerate(sequences):\n",
    "        results[i, sequence] = 1.\n",
    "    return results"
   ]
  },
  {
   "cell_type": "code",
   "execution_count": 7,
   "id": "3cf75381",
   "metadata": {},
   "outputs": [],
   "source": [
    "x_train = vectorize_sequences(train_data)\n",
    "x_test = vectorize_sequences(test_data)"
   ]
  },
  {
   "cell_type": "code",
   "execution_count": 8,
   "id": "7b641552",
   "metadata": {},
   "outputs": [],
   "source": [
    "y_train = np.asarray(train_labels).astype('float32')\n",
    "y_test = np.asarray(test_labels).astype('float32')"
   ]
  },
  {
   "cell_type": "markdown",
   "id": "13806fa4",
   "metadata": {},
   "source": [
    "**Building the Network**"
   ]
  },
  {
   "cell_type": "code",
   "execution_count": 10,
   "id": "e905d91b",
   "metadata": {},
   "outputs": [],
   "source": [
    "model = models.Sequential()\n",
    "model.add(layers.Dense(16, activation='relu', input_shape=(10000,)))\n",
    "model.add(layers.Dense(16, activation='relu'))\n",
    "model.add(layers.Dense(1, activation='sigmoid'))"
   ]
  },
  {
   "cell_type": "code",
   "execution_count": 20,
   "id": "e169c46e",
   "metadata": {},
   "outputs": [],
   "source": [
    "model.compile(optimizer='rmsprop',\n",
    "              loss='binary_crossentropy',\n",
    "              metrics=['acc'])"
   ]
  },
  {
   "cell_type": "markdown",
   "id": "46890296",
   "metadata": {},
   "source": [
    "**Validation Set**"
   ]
  },
  {
   "cell_type": "code",
   "execution_count": 19,
   "id": "c76f3405",
   "metadata": {},
   "outputs": [],
   "source": [
    "x_val = x_train[:10000]\n",
    "partial_x_train = x_train[10000:]\n",
    "\n",
    "y_val = y_train[:10000]\n",
    "partial_y_train = y_train[10000:]"
   ]
  },
  {
   "cell_type": "markdown",
   "id": "6e76fa53",
   "metadata": {},
   "source": [
    "**Training the Model**"
   ]
  },
  {
   "cell_type": "code",
   "execution_count": 21,
   "id": "f99f8396",
   "metadata": {},
   "outputs": [
    {
     "name": "stdout",
     "output_type": "stream",
     "text": [
      "Epoch 1/20\n",
      "30/30 [==============================] - 6s 175ms/step - loss: 0.5021 - acc: 0.7969 - val_loss: 0.3771 - val_acc: 0.8709\n",
      "Epoch 2/20\n",
      "30/30 [==============================] - 1s 27ms/step - loss: 0.2973 - acc: 0.9022 - val_loss: 0.3072 - val_acc: 0.8828\n",
      "Epoch 3/20\n",
      "30/30 [==============================] - 1s 32ms/step - loss: 0.2177 - acc: 0.9281 - val_loss: 0.3106 - val_acc: 0.8753\n",
      "Epoch 4/20\n",
      "30/30 [==============================] - 1s 27ms/step - loss: 0.1718 - acc: 0.9454 - val_loss: 0.2914 - val_acc: 0.8850\n",
      "Epoch 5/20\n",
      "30/30 [==============================] - 1s 26ms/step - loss: 0.1425 - acc: 0.9545 - val_loss: 0.2841 - val_acc: 0.8869\n",
      "Epoch 6/20\n",
      "30/30 [==============================] - 1s 25ms/step - loss: 0.1169 - acc: 0.9634 - val_loss: 0.2981 - val_acc: 0.8873\n",
      "Epoch 7/20\n",
      "30/30 [==============================] - 1s 30ms/step - loss: 0.0976 - acc: 0.9713 - val_loss: 0.3127 - val_acc: 0.8843\n",
      "Epoch 8/20\n",
      "30/30 [==============================] - 1s 25ms/step - loss: 0.0782 - acc: 0.9783 - val_loss: 0.3280 - val_acc: 0.8821\n",
      "Epoch 9/20\n",
      "30/30 [==============================] - 2s 75ms/step - loss: 0.0670 - acc: 0.9813 - val_loss: 0.3504 - val_acc: 0.8810\n",
      "Epoch 10/20\n",
      "30/30 [==============================] - 1s 35ms/step - loss: 0.0526 - acc: 0.9873 - val_loss: 0.3792 - val_acc: 0.8790\n",
      "Epoch 11/20\n",
      "30/30 [==============================] - 1s 41ms/step - loss: 0.0426 - acc: 0.9909 - val_loss: 0.4060 - val_acc: 0.8730\n",
      "Epoch 12/20\n",
      "30/30 [==============================] - 1s 37ms/step - loss: 0.0351 - acc: 0.9917 - val_loss: 0.4347 - val_acc: 0.8697\n",
      "Epoch 13/20\n",
      "30/30 [==============================] - 1s 36ms/step - loss: 0.0264 - acc: 0.9954 - val_loss: 0.4621 - val_acc: 0.8733\n",
      "Epoch 14/20\n",
      "30/30 [==============================] - 1s 29ms/step - loss: 0.0235 - acc: 0.9956 - val_loss: 0.5110 - val_acc: 0.8659\n",
      "Epoch 15/20\n",
      "30/30 [==============================] - 1s 30ms/step - loss: 0.0136 - acc: 0.9991 - val_loss: 0.5457 - val_acc: 0.8700\n",
      "Epoch 16/20\n",
      "30/30 [==============================] - 1s 30ms/step - loss: 0.0122 - acc: 0.9989 - val_loss: 0.5772 - val_acc: 0.8679\n",
      "Epoch 17/20\n",
      "30/30 [==============================] - 1s 32ms/step - loss: 0.0123 - acc: 0.9981 - val_loss: 0.5937 - val_acc: 0.8678\n",
      "Epoch 18/20\n",
      "30/30 [==============================] - 1s 32ms/step - loss: 0.0055 - acc: 0.9998 - val_loss: 0.6288 - val_acc: 0.8654\n",
      "Epoch 19/20\n",
      "30/30 [==============================] - 1s 27ms/step - loss: 0.0068 - acc: 0.9989 - val_loss: 0.6667 - val_acc: 0.8665\n",
      "Epoch 20/20\n",
      "30/30 [==============================] - 1s 30ms/step - loss: 0.0062 - acc: 0.9992 - val_loss: 0.6994 - val_acc: 0.8663\n"
     ]
    }
   ],
   "source": [
    "history = model.fit(partial_x_train,\n",
    "                    partial_y_train,\n",
    "                    epochs=20,\n",
    "                    batch_size=512,\n",
    "                    validation_data=(x_val, y_val))"
   ]
  },
  {
   "cell_type": "markdown",
   "id": "cdf7c0be",
   "metadata": {},
   "source": [
    "**Training and Validation Loss**"
   ]
  },
  {
   "cell_type": "code",
   "execution_count": 24,
   "id": "c7c0a545",
   "metadata": {},
   "outputs": [],
   "source": [
    "history_dict = history.history"
   ]
  },
  {
   "cell_type": "code",
   "execution_count": 26,
   "id": "6c49926e",
   "metadata": {},
   "outputs": [],
   "source": [
    "history_dict = history.history\n",
    "loss_values = history_dict['loss']\n",
    "val_loss_values = history_dict['val_loss']"
   ]
  },
  {
   "cell_type": "code",
   "execution_count": 30,
   "id": "ce32955a",
   "metadata": {},
   "outputs": [],
   "source": [
    "epochs = range(1, 21)"
   ]
  },
  {
   "cell_type": "code",
   "execution_count": 31,
   "id": "94641082",
   "metadata": {},
   "outputs": [
    {
     "data": {
      "image/png": "[encoded data removed]",
      "text/plain": [
       "<Figure size 432x288 with 1 Axes>"
      ]
     },
     "metadata": {
      "needs_background": "light"
     },
     "output_type": "display_data"
    }
   ],
   "source": [
    "plt.plot(epochs, loss_values, 'bo', label='Training loss')\n",
    "plt.plot(epochs, val_loss_values, 'b', label='Validation loss')\n",
    "\n",
    "plt.title('Training and validation loss')\n",
    "plt.xlabel('Epochs')\n",
    "plt.ylabel('Loss')\n",
    "plt.legend()\n",
    "\n",
    "plt.show()"
   ]
  },
  {
   "cell_type": "markdown",
   "id": "d2ca2ed8",
   "metadata": {},
   "source": [
    "**Training and Validation Accuracy**"
   ]
  },
  {
   "cell_type": "code",
   "execution_count": 32,
   "id": "90e8ec83",
   "metadata": {},
   "outputs": [
    {
     "data": {
      "text/plain": [
       "<Figure size 432x288 with 0 Axes>"
      ]
     },
     "metadata": {},
     "output_type": "display_data"
    }
   ],
   "source": [
    "plt.clf() "
   ]
  },
  {
   "cell_type": "code",
   "execution_count": 35,
   "id": "3b5480f2",
   "metadata": {},
   "outputs": [],
   "source": [
    "acc = history_dict['acc'] \n",
    "val_acc = history_dict['val_acc']"
   ]
  },
  {
   "cell_type": "code",
   "execution_count": 37,
   "id": "8826b353",
   "metadata": {},
   "outputs": [
    {
     "data": {
      "image/png": "[encoded data removed]",
      "text/plain": [
       "<Figure size 432x288 with 1 Axes>"
      ]
     },
     "metadata": {
      "needs_background": "light"
     },
     "output_type": "display_data"
    }
   ],
   "source": [
    "plt.plot(epochs, acc, 'bo', label='Training acc')\n",
    "plt.plot(epochs, val_acc, 'b', label='Validation acc')\n",
    "\n",
    "plt.title('Training and validation accuracy')\n",
    "plt.xlabel('Epochs')\n",
    "plt.ylabel('Loss')\n",
    "plt.legend()\n",
    "\n",
    "plt.show()"
   ]
  },
  {
   "cell_type": "markdown",
   "id": "a4a20057",
   "metadata": {},
   "source": [
    "**Results**"
   ]
  },
  {
   "cell_type": "code",
   "execution_count": 39,
   "id": "fdbd4dba",
   "metadata": {},
   "outputs": [
    {
     "name": "stdout",
     "output_type": "stream",
     "text": [
      "782/782 [==============================] - 3s 3ms/step - loss: 0.7563 - acc: 0.8517\n"
     ]
    },
    {
     "data": {
      "text/plain": [
       "[0.7562754154205322, 0.8516799807548523]"
      ]
     },
     "execution_count": 39,
     "metadata": {},
     "output_type": "execute_result"
    }
   ],
   "source": [
    "results = model.evaluate(x_test, y_test)\n",
    "results"
   ]
  },
  {
   "cell_type": "markdown",
   "id": "a742957d",
   "metadata": {},
   "source": [
    "The model has an 85.17% accuracy."
   ]
  }
 ],
 "metadata": {
  "kernelspec": {
   "display_name": "Python 3",
   "language": "python",
   "name": "python3"
  },
  "language_info": {
   "codemirror_mode": {
    "name": "ipython",
    "version": 3
   },
   "file_extension": ".py",
   "mimetype": "text/x-python",
   "name": "python",
   "nbconvert_exporter": "python",
   "pygments_lexer": "ipython3",
   "version": "3.8.3"
  }
 },
 "nbformat": 4,
 "nbformat_minor": 5
}
