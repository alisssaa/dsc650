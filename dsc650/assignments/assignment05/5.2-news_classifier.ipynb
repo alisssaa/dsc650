{
 "cells": [
  {
   "cell_type": "markdown",
   "id": "5600aa96",
   "metadata": {},
   "source": [
    "### Assignment 5.2: News Classifier"
   ]
  },
  {
   "cell_type": "code",
   "execution_count": 19,
   "id": "5d637c0e",
   "metadata": {},
   "outputs": [],
   "source": [
    "import numpy as np\n",
    "import matplotlib.pyplot as plt\n",
    "\n",
    "from keras import models\n",
    "from keras import layers\n",
    "from tensorflow.keras import optimizers\n",
    "from keras.datasets import reuters\n",
    "from keras import losses\n",
    "from keras import metrics\n",
    "from keras.utils.np_utils import to_categorical"
   ]
  },
  {
   "cell_type": "code",
   "execution_count": 20,
   "id": "369472e4",
   "metadata": {},
   "outputs": [],
   "source": [
    "(train_data, train_labels), (test_data, test_labels) = reuters.load_data(num_words=10000)"
   ]
  },
  {
   "cell_type": "markdown",
   "id": "52f52f57",
   "metadata": {},
   "source": [
    "**Vectorize Data**"
   ]
  },
  {
   "cell_type": "code",
   "execution_count": 30,
   "id": "51e89515",
   "metadata": {},
   "outputs": [],
   "source": [
    "def vectorize_sequences(sequences, dimension=10000):\n",
    "            results = np.zeros((len(sequences), dimension))\n",
    "            for i, sequence in enumerate(sequences):\n",
    "                results[i, sequence] = 1.\n",
    "            return results"
   ]
  },
  {
   "cell_type": "code",
   "execution_count": 31,
   "id": "8f49e4e6",
   "metadata": {},
   "outputs": [],
   "source": [
    "x_train = vectorize_sequences(train_data)\n",
    "x_test = vectorize_sequences(test_data)"
   ]
  },
  {
   "cell_type": "code",
   "execution_count": 32,
   "id": "27f0dd0c",
   "metadata": {},
   "outputs": [],
   "source": [
    "one_hot_train_labels = to_categorical(train_labels)\n",
    "one_hot_test_labels = to_categorical(test_labels)"
   ]
  },
  {
   "cell_type": "markdown",
   "id": "87800bc9",
   "metadata": {},
   "source": [
    "**Building the Network**"
   ]
  },
  {
   "cell_type": "code",
   "execution_count": 33,
   "id": "ffd73542",
   "metadata": {},
   "outputs": [],
   "source": [
    "model = models.Sequential()\n",
    "model.add(layers.Dense(64, activation='relu', input_shape=(10000,)))\n",
    "model.add(layers.Dense(64, activation='relu'))\n",
    "model.add(layers.Dense(46, activation='softmax'))"
   ]
  },
  {
   "cell_type": "code",
   "execution_count": 34,
   "id": "b9329871",
   "metadata": {},
   "outputs": [],
   "source": [
    "model.compile(optimizer='rmsprop',\n",
    "              loss='categorical_crossentropy',\n",
    "              metrics=['accuracy'])"
   ]
  },
  {
   "cell_type": "markdown",
   "id": "36dee382",
   "metadata": {},
   "source": [
    "**Validation Set**"
   ]
  },
  {
   "cell_type": "code",
   "execution_count": 35,
   "id": "0286c3cf",
   "metadata": {},
   "outputs": [],
   "source": [
    "x_val = x_train[:1000]\n",
    "partial_x_train = x_train[1000:]\n",
    "\n",
    "y_val = one_hot_train_labels[:1000]\n",
    "partial_y_train = one_hot_train_labels[1000:]"
   ]
  },
  {
   "cell_type": "markdown",
   "id": "65a4eed2",
   "metadata": {},
   "source": [
    "**Training the Model**"
   ]
  },
  {
   "cell_type": "code",
   "execution_count": 36,
   "id": "7e06c613",
   "metadata": {},
   "outputs": [
    {
     "name": "stdout",
     "output_type": "stream",
     "text": [
      "Epoch 1/20\n",
      "16/16 [==============================] - 2s 55ms/step - loss: 2.6948 - accuracy: 0.5563 - val_loss: 1.7709 - val_accuracy: 0.6510\n",
      "Epoch 2/20\n",
      "16/16 [==============================] - 1s 40ms/step - loss: 1.4326 - accuracy: 0.7117 - val_loss: 1.3039 - val_accuracy: 0.7110\n",
      "Epoch 3/20\n",
      "16/16 [==============================] - 1s 36ms/step - loss: 1.0663 - accuracy: 0.7745 - val_loss: 1.1308 - val_accuracy: 0.7670\n",
      "Epoch 4/20\n",
      "16/16 [==============================] - 1s 47ms/step - loss: 0.8533 - accuracy: 0.8206 - val_loss: 1.0289 - val_accuracy: 0.7870\n",
      "Epoch 5/20\n",
      "16/16 [==============================] - 1s 42ms/step - loss: 0.6873 - accuracy: 0.8563 - val_loss: 0.9745 - val_accuracy: 0.7990\n",
      "Epoch 6/20\n",
      "16/16 [==============================] - 1s 45ms/step - loss: 0.5519 - accuracy: 0.8854 - val_loss: 0.9256 - val_accuracy: 0.8040\n",
      "Epoch 7/20\n",
      "16/16 [==============================] - 1s 47ms/step - loss: 0.4496 - accuracy: 0.9047 - val_loss: 0.9409 - val_accuracy: 0.7930\n",
      "Epoch 8/20\n",
      "16/16 [==============================] - 1s 44ms/step - loss: 0.3626 - accuracy: 0.9230 - val_loss: 0.8769 - val_accuracy: 0.8240\n",
      "Epoch 9/20\n",
      "16/16 [==============================] - 1s 81ms/step - loss: 0.2989 - accuracy: 0.9360 - val_loss: 0.8974 - val_accuracy: 0.8220\n",
      "Epoch 10/20\n",
      "16/16 [==============================] - 1s 62ms/step - loss: 0.2510 - accuracy: 0.9426 - val_loss: 0.9231 - val_accuracy: 0.8140\n",
      "Epoch 11/20\n",
      "16/16 [==============================] - 1s 38ms/step - loss: 0.2150 - accuracy: 0.9496 - val_loss: 0.9047 - val_accuracy: 0.8190\n",
      "Epoch 12/20\n",
      "16/16 [==============================] - 1s 44ms/step - loss: 0.1908 - accuracy: 0.9501 - val_loss: 0.9395 - val_accuracy: 0.8180\n",
      "Epoch 13/20\n",
      "16/16 [==============================] - 1s 47ms/step - loss: 0.1714 - accuracy: 0.9528 - val_loss: 0.9483 - val_accuracy: 0.8130\n",
      "Epoch 14/20\n",
      "16/16 [==============================] - 1s 54ms/step - loss: 0.1537 - accuracy: 0.9531 - val_loss: 0.9705 - val_accuracy: 0.8260\n",
      "Epoch 15/20\n",
      "16/16 [==============================] - 1s 58ms/step - loss: 0.1444 - accuracy: 0.9557 - val_loss: 0.9949 - val_accuracy: 0.8100\n",
      "Epoch 16/20\n",
      "16/16 [==============================] - 1s 47ms/step - loss: 0.1347 - accuracy: 0.9560 - val_loss: 1.0125 - val_accuracy: 0.8130\n",
      "Epoch 17/20\n",
      "16/16 [==============================] - 1s 39ms/step - loss: 0.1274 - accuracy: 0.9564 - val_loss: 1.0403 - val_accuracy: 0.8040\n",
      "Epoch 18/20\n",
      "16/16 [==============================] - 1s 50ms/step - loss: 0.1237 - accuracy: 0.9546 - val_loss: 1.0747 - val_accuracy: 0.8010\n",
      "Epoch 19/20\n",
      "16/16 [==============================] - 1s 51ms/step - loss: 0.1187 - accuracy: 0.9567 - val_loss: 1.0842 - val_accuracy: 0.7970\n",
      "Epoch 20/20\n",
      "16/16 [==============================] - 1s 54ms/step - loss: 0.1136 - accuracy: 0.9594 - val_loss: 1.1199 - val_accuracy: 0.8000\n"
     ]
    }
   ],
   "source": [
    "history = model.fit(partial_x_train,\n",
    "                    partial_y_train,\n",
    "                    epochs=20,\n",
    "                    batch_size=512,\n",
    "                    validation_data=(x_val, y_val))"
   ]
  },
  {
   "cell_type": "markdown",
   "id": "4ce63ad8",
   "metadata": {},
   "source": [
    "**Training and Validation Loss**"
   ]
  },
  {
   "cell_type": "code",
   "execution_count": 37,
   "id": "11f2d4f7",
   "metadata": {},
   "outputs": [],
   "source": [
    "loss = history.history['loss']\n",
    "val_loss = history.history['val_loss']"
   ]
  },
  {
   "cell_type": "code",
   "execution_count": 38,
   "id": "a16fb6ae",
   "metadata": {},
   "outputs": [],
   "source": [
    "epochs = range(1, 21)"
   ]
  },
  {
   "cell_type": "code",
   "execution_count": 39,
   "id": "c72ab424",
   "metadata": {},
   "outputs": [
    {
     "data": {
      "image/png": "[encoded data removed]",
      "text/plain": [
       "<Figure size 432x288 with 1 Axes>"
      ]
     },
     "metadata": {
      "needs_background": "light"
     },
     "output_type": "display_data"
    }
   ],
   "source": [
    "plt.plot(epochs, loss, 'bo', label='Training loss')\n",
    "plt.plot(epochs, val_loss, 'b', label='Validation loss')\n",
    "\n",
    "plt.title('Training and validation loss')\n",
    "plt.xlabel('Epochs')\n",
    "plt.ylabel('Loss')\n",
    "plt.legend()\n",
    "\n",
    "plt.show()"
   ]
  },
  {
   "cell_type": "markdown",
   "id": "1343ef8e",
   "metadata": {},
   "source": [
    "**Training and Validation Accuracy**"
   ]
  },
  {
   "cell_type": "code",
   "execution_count": 40,
   "id": "21bd8886",
   "metadata": {},
   "outputs": [
    {
     "data": {
      "text/plain": [
       "<Figure size 432x288 with 0 Axes>"
      ]
     },
     "metadata": {},
     "output_type": "display_data"
    }
   ],
   "source": [
    "plt.clf()"
   ]
  },
  {
   "cell_type": "code",
   "execution_count": 43,
   "id": "dae0f6d5",
   "metadata": {},
   "outputs": [],
   "source": [
    "acc = history.history['accuracy']\n",
    "val_acc = history.history['val_accuracy']"
   ]
  },
  {
   "cell_type": "code",
   "execution_count": 44,
   "id": "0d895c4f",
   "metadata": {},
   "outputs": [
    {
     "data": {
      "image/png": "[encoded data removed]",
      "text/plain": [
       "<Figure size 432x288 with 1 Axes>"
      ]
     },
     "metadata": {
      "needs_background": "light"
     },
     "output_type": "display_data"
    }
   ],
   "source": [
    "plt.plot(epochs, acc, 'bo', label='Training acc')\n",
    "plt.plot(epochs, val_acc, 'b', label='Validation acc')\n",
    "\n",
    "plt.title('Training and validation accuracy')\n",
    "plt.xlabel('Epochs')\n",
    "plt.ylabel('Loss')\n",
    "plt.legend()\n",
    "\n",
    "plt.show()"
   ]
  },
  {
   "cell_type": "markdown",
   "id": "8eca153c",
   "metadata": {},
   "source": [
    "**Results**"
   ]
  },
  {
   "cell_type": "code",
   "execution_count": 46,
   "id": "aa6444ca",
   "metadata": {},
   "outputs": [
    {
     "name": "stdout",
     "output_type": "stream",
     "text": [
      "71/71 [==============================] - 1s 6ms/step - loss: 1.2256 - accuracy: 0.7792\n"
     ]
    },
    {
     "data": {
      "text/plain": [
       "[1.2256207466125488, 0.7791629433631897]"
      ]
     },
     "execution_count": 46,
     "metadata": {},
     "output_type": "execute_result"
    }
   ],
   "source": [
    "results = model.evaluate(x_test, one_hot_test_labels)\n",
    "results"
   ]
  },
  {
   "cell_type": "markdown",
   "id": "4c721089",
   "metadata": {},
   "source": [
    "The model has a 77.92% accuracy."
   ]
  }
 ],
 "metadata": {
  "kernelspec": {
   "display_name": "Python 3",
   "language": "python",
   "name": "python3"
  },
  "language_info": {
   "codemirror_mode": {
    "name": "ipython",
    "version": 3
   },
   "file_extension": ".py",
   "mimetype": "text/x-python",
   "name": "python",
   "nbconvert_exporter": "python",
   "pygments_lexer": "ipython3",
   "version": "3.8.3"
  }
 },
 "nbformat": 4,
 "nbformat_minor": 5
}
