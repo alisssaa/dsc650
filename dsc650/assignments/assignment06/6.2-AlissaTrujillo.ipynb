{
 "cells": [
  {
   "cell_type": "markdown",
   "id": "0f682bde",
   "metadata": {},
   "source": [
    "### Assignment 6.2.a: CIFAR10"
   ]
  },
  {
   "cell_type": "code",
   "execution_count": null,
   "id": "c99399c8",
   "metadata": {},
   "outputs": [],
   "source": [
    "import sys\n",
    "import pandas as pd\n",
    "import numpy as np\n",
    "\n",
    "import matplotlib.pyplot as plt\n",
    "\n",
    "from keras.datasets import cifar10\n",
    "from keras.models import Sequential\n",
    "\n",
    "from keras.layers import Conv2D\n",
    "from keras.layers import MaxPooling2D\n",
    "from keras.layers import Dense\n",
    "from keras.layers import Flatten\n",
    "from keras.layers import Dropout\n",
    "\n",
    "from tensorflow.keras.utils import to_categorical\n",
    "from tensorflow.keras.optimizers import SGD\n",
    "\n",
    "from keras.preprocessing import image\n",
    "from keras.preprocessing.image import ImageDataGenerator\n",
    "\n",
    "from sklearn.preprocessing import LabelEncoder\n",
    "from sklearn.model_selection import train_test_split"
   ]
  },
  {
   "cell_type": "markdown",
   "id": "4ec69008",
   "metadata": {},
   "source": [
    "**Import Data**"
   ]
  },
  {
   "cell_type": "code",
   "execution_count": 3,
   "id": "b1f7ecf4",
   "metadata": {},
   "outputs": [],
   "source": [
    "(x_train, y_train), (x_test, y_test) = cifar10.load_data()"
   ]
  },
  {
   "cell_type": "code",
   "execution_count": 4,
   "id": "082b23cd",
   "metadata": {},
   "outputs": [],
   "source": [
    "y_train = to_categorical(y_train)\n",
    "y_test = to_categorical(y_test)"
   ]
  },
  {
   "cell_type": "markdown",
   "id": "863eb339",
   "metadata": {},
   "source": [
    "**Format Photos**"
   ]
  },
  {
   "cell_type": "code",
   "execution_count": 5,
   "id": "0f47de6c",
   "metadata": {},
   "outputs": [],
   "source": [
    "train_norm = x_train.astype('float32')\n",
    "test_norm = x_test.astype('float32')\n",
    "\n",
    "train_norm = train_norm / 255.0\n",
    "test_norm = test_norm / 255.0"
   ]
  },
  {
   "cell_type": "markdown",
   "id": "a20c76f7",
   "metadata": {},
   "source": [
    "**Initiating a Model**"
   ]
  },
  {
   "cell_type": "code",
   "execution_count": 6,
   "id": "6ce55b66",
   "metadata": {},
   "outputs": [],
   "source": [
    "model = Sequential()\n",
    "model.add(Conv2D(32, (3, 3), activation='relu', kernel_initializer='he_uniform', padding='same', input_shape=(32, 32, 3)))\n",
    "model.add(Conv2D(32, (3, 3), activation='relu', kernel_initializer='he_uniform', padding='same'))\n",
    "model.add(MaxPooling2D((2, 2)))\n",
    "model.add(Flatten())\n",
    "model.add(Dense(128, activation='relu', kernel_initializer='he_uniform'))\n",
    "model.add(Dense(10, activation='softmax'))"
   ]
  },
  {
   "cell_type": "code",
   "execution_count": 7,
   "id": "bd2f8f91",
   "metadata": {},
   "outputs": [],
   "source": [
    "opt = SGD(learning_rate=0.001, momentum=0.9)"
   ]
  },
  {
   "cell_type": "code",
   "execution_count": 8,
   "id": "567ffcec",
   "metadata": {},
   "outputs": [],
   "source": [
    "model.compile(optimizer=opt, \n",
    "              loss='categorical_crossentropy', \n",
    "              metrics=['accuracy'])"
   ]
  },
  {
   "cell_type": "code",
   "execution_count": 9,
   "id": "90278d34",
   "metadata": {},
   "outputs": [
    {
     "name": "stdout",
     "output_type": "stream",
     "text": [
      "Epoch 1/5\n",
      "782/782 [==============================] - 120s 152ms/step - loss: 17648.5059 - accuracy: 0.0986 - val_loss: 2.3026 - val_accuracy: 0.1000\n",
      "Epoch 2/5\n",
      "782/782 [==============================] - 121s 155ms/step - loss: 2.3027 - accuracy: 0.0985 - val_loss: 2.3026 - val_accuracy: 0.1000\n",
      "Epoch 3/5\n",
      "782/782 [==============================] - 140s 179ms/step - loss: 2.3026 - accuracy: 0.0974 - val_loss: 2.3026 - val_accuracy: 0.1000\n",
      "Epoch 4/5\n",
      "782/782 [==============================] - 131s 167ms/step - loss: 2.3026 - accuracy: 0.0986 - val_loss: 2.3026 - val_accuracy: 0.1000\n",
      "Epoch 5/5\n",
      "782/782 [==============================] - 116s 148ms/step - loss: 2.3026 - accuracy: 0.0965 - val_loss: 2.3026 - val_accuracy: 0.1000\n"
     ]
    }
   ],
   "source": [
    "history = model.fit(x_train, y_train, epochs=5, batch_size=64, validation_data=(x_test, y_test))"
   ]
  },
  {
   "cell_type": "markdown",
   "id": "1437aa41",
   "metadata": {},
   "source": [
    "**Saving the Model**"
   ]
  },
  {
   "cell_type": "code",
   "execution_count": 10,
   "id": "430ccb61",
   "metadata": {},
   "outputs": [
    {
     "name": "stdout",
     "output_type": "stream",
     "text": [
      "INFO:tensorflow:Assets written to: results/model-6-2-a/assets\n"
     ]
    }
   ],
   "source": [
    "model.save('results/model-6-2-a')"
   ]
  },
  {
   "cell_type": "markdown",
   "id": "d36169e3",
   "metadata": {},
   "source": [
    "**Saving the Predictions**"
   ]
  },
  {
   "cell_type": "code",
   "execution_count": 11,
   "id": "a1f2ad08",
   "metadata": {},
   "outputs": [],
   "source": [
    "pred = model.predict(x_test)\n",
    "\n",
    "pred = pd.DataFrame(pred)\n",
    "pred.to_csv('results/model-6-2-a/predictions.csv')"
   ]
  },
  {
   "cell_type": "markdown",
   "id": "96c82f9e",
   "metadata": {},
   "source": [
    "**Saving the Metrics**"
   ]
  },
  {
   "cell_type": "code",
   "execution_count": 12,
   "id": "df589478",
   "metadata": {},
   "outputs": [
    {
     "name": "stdout",
     "output_type": "stream",
     "text": [
      "313/313 [==============================] - 5s 15ms/step - loss: 2.3026 - accuracy: 0.1000\n"
     ]
    }
   ],
   "source": [
    "test_loss, test_acc = model.evaluate(x_test, y_test)"
   ]
  },
  {
   "cell_type": "code",
   "execution_count": 13,
   "id": "bd655ac0",
   "metadata": {},
   "outputs": [
    {
     "name": "stdout",
     "output_type": "stream",
     "text": [
      "Test Accuracy:  0.10000000149011612\n",
      "Test Loss:  2.302586078643799\n"
     ]
    }
   ],
   "source": [
    "print(\"Test Accuracy: \", test_acc)\n",
    "print(\"Test Loss: \", test_loss)"
   ]
  },
  {
   "cell_type": "code",
   "execution_count": 14,
   "id": "3123ee1b",
   "metadata": {},
   "outputs": [],
   "source": [
    "lines = ['Test Accuracy:  0.10000000149011612', 'Test Loss:  2.302586078643799']"
   ]
  },
  {
   "cell_type": "code",
   "execution_count": 15,
   "id": "b7176ed4",
   "metadata": {},
   "outputs": [],
   "source": [
    "with open('results/model-6-2-a/metrics.txt', 'w') as f:\n",
    "    f.write('\\n'.join(lines))"
   ]
  },
  {
   "cell_type": "markdown",
   "id": "6573e71e",
   "metadata": {},
   "source": [
    "**Saving the Validation Plots**"
   ]
  },
  {
   "cell_type": "code",
   "execution_count": 16,
   "id": "6f685711",
   "metadata": {},
   "outputs": [],
   "source": [
    "acc = history.history['accuracy']\n",
    "val_acc = history.history['val_accuracy']\n",
    "\n",
    "loss = history.history['loss']\n",
    "val_loss = history.history['val_loss']"
   ]
  },
  {
   "cell_type": "code",
   "execution_count": 17,
   "id": "8949f221",
   "metadata": {},
   "outputs": [],
   "source": [
    "epochs = range(1, len(acc) + 1)"
   ]
  },
  {
   "cell_type": "code",
   "execution_count": 18,
   "id": "04d81cdd",
   "metadata": {},
   "outputs": [
    {
     "data": {
      "image/png": "[encoded data removed]",
      "text/plain": [
       "<Figure size 432x288 with 1 Axes>"
      ]
     },
     "metadata": {
      "needs_background": "light"
     },
     "output_type": "display_data"
    },
    {
     "data": {
      "image/png": "[encoded data removed]",
      "text/plain": [
       "<Figure size 432x288 with 1 Axes>"
      ]
     },
     "metadata": {
      "needs_background": "light"
     },
     "output_type": "display_data"
    }
   ],
   "source": [
    "plt.plot(epochs, acc, 'bo', label='Training acc')\n",
    "plt.plot(epochs, val_acc, 'b', label='Validation acc')\n",
    "plt.title('Training and validation accuracy')\n",
    "plt.legend()\n",
    "\n",
    "plt.figure()\n",
    "\n",
    "plt.plot(epochs, loss, 'bo', label='Training loss')\n",
    "plt.plot(epochs, val_loss, 'b', label='Validation loss')\n",
    "plt.title('Training and validation loss')\n",
    "\n",
    "plt.legend()\n",
    "\n",
    "plt.show()"
   ]
  },
  {
   "cell_type": "code",
   "execution_count": 19,
   "id": "7af571bd",
   "metadata": {},
   "outputs": [
    {
     "data": {
      "text/plain": [
       "<Figure size 432x288 with 0 Axes>"
      ]
     },
     "metadata": {},
     "output_type": "display_data"
    }
   ],
   "source": [
    "plt.savefig('results/model-6-2-a/validationplot.jpg')"
   ]
  },
  {
   "cell_type": "markdown",
   "id": "4ea7fb01",
   "metadata": {},
   "source": [
    "### Assignment 6.2.b: CIFAR10 with Dropout & Augmentation"
   ]
  },
  {
   "cell_type": "markdown",
   "id": "7662595f",
   "metadata": {},
   "source": [
    "**Initiating the Model**"
   ]
  },
  {
   "cell_type": "code",
   "execution_count": 20,
   "id": "5811123f",
   "metadata": {},
   "outputs": [],
   "source": [
    "modelB = Sequential()\n",
    "modelB.add(Conv2D(32,kernel_size=(3,3),activation='relu',input_shape=(32, 32, 3)))\n",
    "modelB.add(MaxPooling2D(pool_size=(2, 2)))\n",
    "modelB.add(Flatten())\n",
    "modelB.add(Dense(16, activation='relu'))\n",
    "modelB.add(Dense(1, activation='sigmoid'))"
   ]
  },
  {
   "cell_type": "code",
   "execution_count": 21,
   "id": "6e6173a5",
   "metadata": {},
   "outputs": [],
   "source": [
    "modelB.compile(loss='binary_crossentropy',\n",
    "              optimizer='adam',\n",
    "              metrics=['accuracy'])"
   ]
  },
  {
   "cell_type": "markdown",
   "id": "30f16bcc",
   "metadata": {},
   "source": [
    "**Image Augmentation**"
   ]
  },
  {
   "cell_type": "code",
   "execution_count": 22,
   "id": "bfc77ff4",
   "metadata": {},
   "outputs": [],
   "source": [
    "train_datagen = ImageDataGenerator(\n",
    "      rotation_range=40,\n",
    "      width_shift_range=0.2,\n",
    "      height_shift_range=0.2,\n",
    "      shear_range=0.2,\n",
    "      zoom_range=0.2,\n",
    "      horizontal_flip=True,\n",
    "      fill_mode='nearest')\n",
    "\n",
    "test_datagen = ImageDataGenerator(rescale=1./255)"
   ]
  },
  {
   "cell_type": "code",
   "execution_count": 23,
   "id": "bda184cc",
   "metadata": {},
   "outputs": [],
   "source": [
    "train_generator = train_datagen.flow(x_train, y_train, batch_size=32)"
   ]
  },
  {
   "cell_type": "code",
   "execution_count": 24,
   "id": "84504d46",
   "metadata": {},
   "outputs": [],
   "source": [
    "validation_generator = train_datagen.flow(x_train, y_train, batch_size=32)"
   ]
  },
  {
   "cell_type": "code",
   "execution_count": 25,
   "id": "05a8e025",
   "metadata": {},
   "outputs": [],
   "source": [
    "test_generator = test_datagen.flow(x_test, batch_size=1)"
   ]
  },
  {
   "cell_type": "markdown",
   "id": "f3952984",
   "metadata": {},
   "source": [
    "**Fitting the Model**"
   ]
  },
  {
   "cell_type": "code",
   "execution_count": 26,
   "id": "df6bf8bc",
   "metadata": {},
   "outputs": [
    {
     "name": "stdout",
     "output_type": "stream",
     "text": [
      "Epoch 1/10\n",
      "100/100 [==============================] - 9s 85ms/step - loss: 1.9452 - accuracy: 0.8600 - val_loss: 0.3813 - val_accuracy: 0.8960\n",
      "Epoch 2/10\n",
      "100/100 [==============================] - 7s 71ms/step - loss: 0.3712 - accuracy: 0.8968 - val_loss: 0.3678 - val_accuracy: 0.8960\n",
      "Epoch 3/10\n",
      "100/100 [==============================] - 10s 102ms/step - loss: 0.3631 - accuracy: 0.8983 - val_loss: 0.3594 - val_accuracy: 0.9000\n",
      "Epoch 4/10\n",
      "100/100 [==============================] - 11s 106ms/step - loss: 0.3545 - accuracy: 0.8985 - val_loss: 0.3516 - val_accuracy: 0.9000\n",
      "Epoch 5/10\n",
      "100/100 [==============================] - 14s 139ms/step - loss: 0.3468 - accuracy: 0.9000 - val_loss: 0.3454 - val_accuracy: 0.9000\n",
      "Epoch 6/10\n",
      "100/100 [==============================] - 8s 80ms/step - loss: 0.3427 - accuracy: 0.9000 - val_loss: 0.3382 - val_accuracy: 0.9000\n",
      "Epoch 7/10\n",
      "100/100 [==============================] - 7s 72ms/step - loss: 0.3402 - accuracy: 0.8998 - val_loss: 0.3399 - val_accuracy: 0.8995\n",
      "Epoch 8/10\n",
      "100/100 [==============================] - 5s 54ms/step - loss: 0.3387 - accuracy: 0.8998 - val_loss: 0.3384 - val_accuracy: 0.9000\n",
      "Epoch 9/10\n",
      "100/100 [==============================] - 8s 81ms/step - loss: 0.3371 - accuracy: 0.9000 - val_loss: 0.3363 - val_accuracy: 0.9000\n",
      "Epoch 10/10\n",
      "100/100 [==============================] - 5s 49ms/step - loss: 0.3355 - accuracy: 0.9000 - val_loss: 0.3352 - val_accuracy: 0.9000\n"
     ]
    }
   ],
   "source": [
    "historyB = modelB.fit(\n",
    "      train_generator,\n",
    "      steps_per_epoch=100,\n",
    "      epochs=10,\n",
    "      validation_data=validation_generator,\n",
    "      validation_steps=50)"
   ]
  },
  {
   "cell_type": "markdown",
   "id": "c92753cd",
   "metadata": {},
   "source": [
    "**Saving the Model**"
   ]
  },
  {
   "cell_type": "code",
   "execution_count": 27,
   "id": "86e82f32",
   "metadata": {},
   "outputs": [
    {
     "name": "stdout",
     "output_type": "stream",
     "text": [
      "INFO:tensorflow:Assets written to: results/model-6-2-b/assets\n"
     ]
    }
   ],
   "source": [
    "modelB.save('results/model-6-2-b')"
   ]
  },
  {
   "cell_type": "markdown",
   "id": "758f149f",
   "metadata": {},
   "source": [
    "**Saving the Predictions**"
   ]
  },
  {
   "cell_type": "code",
   "execution_count": 28,
   "id": "4e784251",
   "metadata": {},
   "outputs": [],
   "source": [
    "predB = modelB.predict(validation_generator)\n",
    "\n",
    "predB = pd.DataFrame(predB)\n",
    "predB.to_csv('results/model-6-2-b/predictions.csv')"
   ]
  },
  {
   "cell_type": "markdown",
   "id": "35ec6efd",
   "metadata": {},
   "source": [
    "**Saving the Metrics**"
   ]
  },
  {
   "cell_type": "code",
   "execution_count": 31,
   "id": "4f7d74e3",
   "metadata": {},
   "outputs": [
    {
     "name": "stdout",
     "output_type": "stream",
     "text": [
      "1563/1563 [==============================] - 43s 27ms/step - loss: 0.3345 - accuracy: 0.9000\n"
     ]
    }
   ],
   "source": [
    "test_lossB, test_accB = modelB.evaluate(validation_generator)"
   ]
  },
  {
   "cell_type": "code",
   "execution_count": 32,
   "id": "84f1451f",
   "metadata": {},
   "outputs": [
    {
     "name": "stdout",
     "output_type": "stream",
     "text": [
      "Test Accuracy:  0.9000139236450195\n",
      "Test Loss:  0.3345222771167755\n"
     ]
    }
   ],
   "source": [
    "print(\"Test Accuracy: \", test_accB)\n",
    "print(\"Test Loss: \", test_lossB)"
   ]
  },
  {
   "cell_type": "code",
   "execution_count": 33,
   "id": "b9aa7270",
   "metadata": {},
   "outputs": [],
   "source": [
    "lines = ['Test Accuracy:  0.9000139236450195', 'Test Loss:  0.3345222771167755']"
   ]
  },
  {
   "cell_type": "code",
   "execution_count": 34,
   "id": "f2731fe7",
   "metadata": {},
   "outputs": [],
   "source": [
    "with open('results/model-6-2-b/metrics.txt', 'w') as f:\n",
    "    f.write('\\n'.join(lines))"
   ]
  },
  {
   "cell_type": "markdown",
   "id": "5f8f1967",
   "metadata": {},
   "source": [
    "**Saving the Validation Plots**"
   ]
  },
  {
   "cell_type": "code",
   "execution_count": 39,
   "id": "34ed94db",
   "metadata": {},
   "outputs": [],
   "source": [
    "acc = historyB.history['accuracy']\n",
    "val_acc = historyB.history['val_accuracy']\n",
    "\n",
    "loss = historyB.history['loss']\n",
    "val_loss = historyB.history['val_loss']"
   ]
  },
  {
   "cell_type": "code",
   "execution_count": 40,
   "id": "449d5637",
   "metadata": {},
   "outputs": [],
   "source": [
    "epochs = range(1, len(acc) + 1)"
   ]
  },
  {
   "cell_type": "code",
   "execution_count": 41,
   "id": "ae1c9271",
   "metadata": {},
   "outputs": [
    {
     "data": {
      "image/png": "[encoded data removed]",
      "text/plain": [
       "<Figure size 432x288 with 1 Axes>"
      ]
     },
     "metadata": {
      "needs_background": "light"
     },
     "output_type": "display_data"
    },
    {
     "data": {
      "image/png": "[encoded data removed]",
      "text/plain": [
       "<Figure size 432x288 with 1 Axes>"
      ]
     },
     "metadata": {
      "needs_background": "light"
     },
     "output_type": "display_data"
    }
   ],
   "source": [
    "plt.plot(epochs, acc, 'bo', label='Training acc')\n",
    "plt.plot(epochs, val_acc, 'b', label='Validation acc')\n",
    "plt.title('Training and validation accuracy')\n",
    "plt.legend()\n",
    "\n",
    "plt.figure()\n",
    "\n",
    "plt.plot(epochs, loss, 'bo', label='Training loss')\n",
    "plt.plot(epochs, val_loss, 'b', label='Validation loss')\n",
    "plt.title('Training and validation loss')\n",
    "\n",
    "plt.legend()\n",
    "\n",
    "plt.show()"
   ]
  },
  {
   "cell_type": "code",
   "execution_count": 42,
   "id": "b24e3ea0",
   "metadata": {},
   "outputs": [
    {
     "data": {
      "text/plain": [
       "<Figure size 432x288 with 0 Axes>"
      ]
     },
     "metadata": {},
     "output_type": "display_data"
    }
   ],
   "source": [
    "plt.savefig('results/model-6-2-b/validationplot.jpg')"
   ]
  }
 ],
 "metadata": {
  "kernelspec": {
   "display_name": "Python 3",
   "language": "python",
   "name": "python3"
  },
  "language_info": {
   "codemirror_mode": {
    "name": "ipython",
    "version": 3
   },
   "file_extension": ".py",
   "mimetype": "text/x-python",
   "name": "python",
   "nbconvert_exporter": "python",
   "pygments_lexer": "ipython3",
   "version": "3.8.3"
  }
 },
 "nbformat": 4,
 "nbformat_minor": 5
}
