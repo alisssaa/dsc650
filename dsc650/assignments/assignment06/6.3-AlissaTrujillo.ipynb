{
 "cells": [
  {
   "cell_type": "markdown",
   "id": "7c845507",
   "metadata": {},
   "source": [
    "### Assignment 6.3: ResNet50"
   ]
  },
  {
   "cell_type": "code",
   "execution_count": 58,
   "id": "1aedfcf1",
   "metadata": {},
   "outputs": [],
   "source": [
    "import numpy as np\n",
    "import matplotlib.pyplot as plt\n",
    "import os, os.path\n",
    "import sys\n",
    "\n",
    "from PIL import Image\n",
    "\n",
    "from tensorflow.keras.applications.resnet50 import ResNet50\n",
    "from tensorflow.keras.preprocessing import image\n",
    "from tensorflow.keras.applications.resnet50 import preprocess_input, decode_predictions"
   ]
  },
  {
   "cell_type": "markdown",
   "id": "d7081c6e",
   "metadata": {},
   "source": [
    "**Importing Images**"
   ]
  },
  {
   "cell_type": "code",
   "execution_count": 37,
   "id": "d9bb2ccd",
   "metadata": {},
   "outputs": [],
   "source": [
    "imgs = []\n",
    "names = []\n",
    "img_path = 'images'\n",
    "\n",
    "for f in os.listdir(img_path):\n",
    "    imgs.append(Image.open(os.path.join(img_path,f)))\n",
    "    names.append(f)"
   ]
  },
  {
   "cell_type": "markdown",
   "id": "fa7f0593",
   "metadata": {},
   "source": [
    "**Converting Images**"
   ]
  },
  {
   "cell_type": "code",
   "execution_count": 26,
   "id": "2f04add8",
   "metadata": {},
   "outputs": [],
   "source": [
    "conv_imgs = []\n",
    "\n",
    "for i in imgs:\n",
    "    img = i.resize((224,224))\n",
    "    x = image.img_to_array(img)\n",
    "    x = np.expand_dims(x, axis=0)\n",
    "    x = preprocess_input(x)\n",
    "    conv_imgs.append(x)"
   ]
  },
  {
   "cell_type": "markdown",
   "id": "f2dfe9ea",
   "metadata": {},
   "source": [
    "**Importing the Model**"
   ]
  },
  {
   "cell_type": "code",
   "execution_count": 19,
   "id": "2d1c80a1",
   "metadata": {},
   "outputs": [
    {
     "name": "stdout",
     "output_type": "stream",
     "text": [
      "Downloading data from https://storage.googleapis.com/tensorflow/keras-applications/resnet/resnet50_weights_tf_dim_ordering_tf_kernels.h5\n",
      "102973440/102967424 [==============================] - 32s 0us/step\n",
      "102981632/102967424 [==============================] - 32s 0us/step\n"
     ]
    }
   ],
   "source": [
    "model = ResNet50(weights='imagenet')"
   ]
  },
  {
   "cell_type": "markdown",
   "id": "c58dfe6e",
   "metadata": {},
   "source": [
    "**Predictions**"
   ]
  },
  {
   "cell_type": "code",
   "execution_count": 27,
   "id": "7613f0a0",
   "metadata": {},
   "outputs": [],
   "source": [
    "preds = []\n",
    "\n",
    "for i in conv_imgs:\n",
    "    pred = model.predict(i)\n",
    "    preds.append(pred)"
   ]
  },
  {
   "cell_type": "code",
   "execution_count": 45,
   "id": "d6d9e538",
   "metadata": {},
   "outputs": [
    {
     "name": "stdout",
     "output_type": "stream",
     "text": [
      "Album: redTV\n",
      "Item: trench_coat \tMatch:  0.387972\n",
      "Item: cloak \t\tMatch:  0.22810045\n",
      "Item: sweatshirt \tMatch:  0.043515887\n",
      "\n",
      "\n",
      "Album: lover\n",
      "Item: miniskirt \tMatch:  0.32951158\n",
      "Item: jersey \t\tMatch:  0.17070642\n",
      "Item: pajama \t\tMatch:  0.12040079\n",
      "\n",
      "\n",
      "Album: midnights\n",
      "Item: web_site \t\tMatch:  0.4937468\n",
      "Item: lipstick \t\tMatch:  0.40501288\n",
      "Item: iPod \t\tMatch:  0.016202198\n",
      "\n",
      "\n",
      "Album: 1989\n",
      "Item: book_jacket \tMatch:  0.5677164\n",
      "Item: web_site \t\tMatch:  0.15202771\n",
      "Item: envelope \t\tMatch:  0.055822678\n",
      "\n",
      "\n",
      "Album: folklore\n",
      "Item: park_bench \tMatch:  0.47377983\n",
      "Item: maze \t\tMatch:  0.099759296\n",
      "Item: megalith \t\tMatch:  0.055295918\n",
      "\n",
      "\n",
      "Album: speaknowTV\n",
      "Item: feather_boa \tMatch:  0.9827891\n",
      "Item: gown \t\tMatch:  0.011839051\n",
      "Item: wig \t\tMatch:  0.0017972493\n",
      "\n",
      "\n",
      "Album: evermore\n",
      "Item: fur_coat \t\tMatch:  0.18469208\n",
      "Item: fountain \t\tMatch:  0.17546014\n",
      "Item: caldron \t\tMatch:  0.104735166\n",
      "\n",
      "\n",
      "Album: debut\n",
      "Item: bikini \t\tMatch:  0.267524\n",
      "Item: wig \t\tMatch:  0.1331575\n",
      "Item: maillot \t\tMatch:  0.0903908\n",
      "\n",
      "\n",
      "Album: fearlessTV\n",
      "Item: hair_spray \tMatch:  0.66192985\n",
      "Item: microphone \tMatch:  0.03473998\n",
      "Item: harmonica \tMatch:  0.025322389\n",
      "\n",
      "\n",
      "Album: reputation\n",
      "Item: jersey \t\tMatch:  0.31122938\n",
      "Item: web_site \t\tMatch:  0.08889243\n",
      "Item: Band_Aid \t\tMatch:  0.0838832\n",
      "\n",
      "\n"
     ]
    }
   ],
   "source": [
    "for p in range(0,10):\n",
    "    x = decode_predictions(preds[p], top=3)[0]\n",
    "    print('Album:', names[p].split('.')[0])\n",
    "    for item in x:\n",
    "        if len(item[1]) > 8:\n",
    "            print('Item:', item[1], '\\tMatch: ', item[2])\n",
    "        else:\n",
    "            print('Item:', item[1], '\\t\\tMatch: ', item[2])\n",
    "    print('\\n')"
   ]
  },
  {
   "cell_type": "markdown",
   "id": "c5958514",
   "metadata": {},
   "source": [
    "**Saving Predictions**"
   ]
  },
  {
   "cell_type": "code",
   "execution_count": null,
   "id": "c0223524",
   "metadata": {},
   "outputs": [],
   "source": [
    "with open('results/predictions/resnet50', 'w') as f:\n",
    "    sys.stdout = f\n",
    "    for p in range(0,10):\n",
    "        x = decode_predictions(preds[p], top=3)[0]\n",
    "        print('Album:', names[p].split('.')[0])\n",
    "        for item in x:\n",
    "            if len(item[1]) > 8:\n",
    "                print('Item:', item[1], '\\tMatch: ', item[2])\n",
    "            else:\n",
    "                print('Item:', item[1], '\\t\\tMatch: ', item[2])\n",
    "        print('\\n')"
   ]
  }
 ],
 "metadata": {
  "kernelspec": {
   "display_name": "Python 3",
   "language": "python",
   "name": "python3"
  },
  "language_info": {
   "codemirror_mode": {
    "name": "ipython",
    "version": 3
   },
   "file_extension": ".py",
   "mimetype": "text/x-python",
   "name": "python",
   "nbconvert_exporter": "python",
   "pygments_lexer": "ipython3",
   "version": "3.8.3"
  }
 },
 "nbformat": 4,
 "nbformat_minor": 5
}
