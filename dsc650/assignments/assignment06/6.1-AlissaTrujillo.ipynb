{
 "cells": [
  {
   "cell_type": "markdown",
   "id": "94f5f666",
   "metadata": {},
   "source": [
    "### Assignment 6.1: MNIST"
   ]
  },
  {
   "cell_type": "code",
   "execution_count": 27,
   "id": "770c6489",
   "metadata": {},
   "outputs": [],
   "source": [
    "import pandas as pd\n",
    "import matplotlib.pyplot as plt\n",
    "\n",
    "from keras import layers\n",
    "from keras import models\n",
    "from tensorflow.keras.utils import to_categorical\n",
    "\n",
    "from keras.datasets import mnist"
   ]
  },
  {
   "cell_type": "markdown",
   "id": "5ba234bf",
   "metadata": {},
   "source": [
    "**Initiating a Convnet**"
   ]
  },
  {
   "cell_type": "code",
   "execution_count": 2,
   "id": "3b6a455e",
   "metadata": {},
   "outputs": [],
   "source": [
    "model = models.Sequential()\n",
    "model.add(layers.Conv2D(32,(3,3), activation='relu', input_shape=(28, 28, 1)))\n",
    "model.add(layers.MaxPooling2D((2,2)))\n",
    "model.add(layers.Conv2D(64,(3,3), activation='relu'))\n",
    "model.add(layers.MaxPooling2D((2,2)))\n",
    "model.add(layers.Conv2D(64,(3,3), activation='relu'))"
   ]
  },
  {
   "cell_type": "markdown",
   "id": "bb27e74a",
   "metadata": {},
   "source": [
    "**Adding a Classifier**"
   ]
  },
  {
   "cell_type": "code",
   "execution_count": 4,
   "id": "5537f183",
   "metadata": {},
   "outputs": [],
   "source": [
    "model.add(layers.Flatten())\n",
    "model.add(layers.Dense(64, activation='relu'))\n",
    "model.add(layers.Dense(10, activation='softmax'))"
   ]
  },
  {
   "cell_type": "code",
   "execution_count": 5,
   "id": "e6be0653",
   "metadata": {},
   "outputs": [
    {
     "name": "stdout",
     "output_type": "stream",
     "text": [
      "Model: \"sequential\"\n",
      "_________________________________________________________________\n",
      " Layer (type)                Output Shape              Param #   \n",
      "=================================================================\n",
      " conv2d (Conv2D)             (None, 26, 26, 32)        320       \n",
      "                                                                 \n",
      " max_pooling2d (MaxPooling2D  (None, 13, 13, 32)       0         \n",
      " )                                                               \n",
      "                                                                 \n",
      " conv2d_1 (Conv2D)           (None, 11, 11, 64)        18496     \n",
      "                                                                 \n",
      " max_pooling2d_1 (MaxPooling  (None, 5, 5, 64)         0         \n",
      " 2D)                                                             \n",
      "                                                                 \n",
      " conv2d_2 (Conv2D)           (None, 3, 3, 64)          36928     \n",
      "                                                                 \n",
      " flatten (Flatten)           (None, 576)               0         \n",
      "                                                                 \n",
      " dense (Dense)               (None, 64)                36928     \n",
      "                                                                 \n",
      " dense_1 (Dense)             (None, 10)                650       \n",
      "                                                                 \n",
      "=================================================================\n",
      "Total params: 93,322\n",
      "Trainable params: 93,322\n",
      "Non-trainable params: 0\n",
      "_________________________________________________________________\n"
     ]
    }
   ],
   "source": [
    "model.summary()"
   ]
  },
  {
   "cell_type": "markdown",
   "id": "41307f1a",
   "metadata": {},
   "source": [
    "**Training Convnet on MNIST Data**"
   ]
  },
  {
   "cell_type": "code",
   "execution_count": 8,
   "id": "d7db606e",
   "metadata": {},
   "outputs": [],
   "source": [
    "(train_images, train_labels), (test_images, test_labels) = mnist.load_data()"
   ]
  },
  {
   "cell_type": "code",
   "execution_count": 9,
   "id": "3d922721",
   "metadata": {},
   "outputs": [],
   "source": [
    "train_images = train_images.reshape((60000, 28, 28, 1))\n",
    "train_images = train_images.astype('float32') / 255\n",
    "\n",
    "test_images = test_images.reshape((10000, 28, 28, 1))\n",
    "test_images = test_images.astype('float32') / 255\n",
    "\n",
    "train_labels = to_categorical(train_labels)\n",
    "test_labels = to_categorical(test_labels)"
   ]
  },
  {
   "cell_type": "code",
   "execution_count": 10,
   "id": "391cccd0",
   "metadata": {},
   "outputs": [],
   "source": [
    "model.compile(optimizer='rmsprop',\n",
    "              loss='categorical_crossentropy',\n",
    "              metrics=['accuracy'])"
   ]
  },
  {
   "cell_type": "code",
   "execution_count": 11,
   "id": "e9e9c830",
   "metadata": {},
   "outputs": [
    {
     "name": "stdout",
     "output_type": "stream",
     "text": [
      "Epoch 1/5\n",
      "938/938 [==============================] - 40s 42ms/step - loss: 0.1747 - accuracy: 0.9446\n",
      "Epoch 2/5\n",
      "938/938 [==============================] - 46s 49ms/step - loss: 0.0480 - accuracy: 0.9851\n",
      "Epoch 3/5\n",
      "938/938 [==============================] - 38s 41ms/step - loss: 0.0324 - accuracy: 0.9904\n",
      "Epoch 4/5\n",
      "938/938 [==============================] - 40s 43ms/step - loss: 0.0246 - accuracy: 0.9921\n",
      "Epoch 5/5\n",
      "938/938 [==============================] - 43s 46ms/step - loss: 0.0185 - accuracy: 0.9944\n"
     ]
    },
    {
     "data": {
      "text/plain": [
       "<keras.callbacks.History at 0x7fec10857cd0>"
      ]
     },
     "execution_count": 11,
     "metadata": {},
     "output_type": "execute_result"
    }
   ],
   "source": [
    "model.fit(train_images, train_labels, epochs=5, batch_size=64)"
   ]
  },
  {
   "cell_type": "markdown",
   "id": "7541b006",
   "metadata": {},
   "source": [
    "**Saving the Model**"
   ]
  },
  {
   "cell_type": "code",
   "execution_count": 12,
   "id": "afae4626",
   "metadata": {},
   "outputs": [
    {
     "name": "stdout",
     "output_type": "stream",
     "text": [
      "INFO:tensorflow:Assets written to: results/model-6-1/assets\n"
     ]
    }
   ],
   "source": [
    "model.save('results/model-6-1')"
   ]
  },
  {
   "cell_type": "markdown",
   "id": "288a07c6",
   "metadata": {},
   "source": [
    "**Saving the Predictions**"
   ]
  },
  {
   "cell_type": "code",
   "execution_count": 19,
   "id": "7202e201",
   "metadata": {},
   "outputs": [],
   "source": [
    "pred = model.predict(test_images)\n",
    "\n",
    "pred = pd.DataFrame(pred)\n",
    "pred.to_csv('results/model-6-1/predictions.csv')"
   ]
  },
  {
   "cell_type": "markdown",
   "id": "4148c778",
   "metadata": {},
   "source": [
    "**Saving the Metrics**"
   ]
  },
  {
   "cell_type": "code",
   "execution_count": 23,
   "id": "80f4e140",
   "metadata": {},
   "outputs": [
    {
     "name": "stdout",
     "output_type": "stream",
     "text": [
      "313/313 [==============================] - 2s 6ms/step - loss: 0.0331 - accuracy: 0.9903\n"
     ]
    }
   ],
   "source": [
    "test_loss, test_acc = model.evaluate(test_images, test_labels)"
   ]
  },
  {
   "cell_type": "code",
   "execution_count": 24,
   "id": "a5dfbd81",
   "metadata": {},
   "outputs": [
    {
     "name": "stdout",
     "output_type": "stream",
     "text": [
      "Test Accuracy:  0.9902999997138977\n",
      "Test Loss:  0.03312191739678383\n"
     ]
    }
   ],
   "source": [
    "print(\"Test Accuracy: \", test_acc)\n",
    "print(\"Test Loss: \", test_loss)"
   ]
  },
  {
   "cell_type": "code",
   "execution_count": 25,
   "id": "2675bfde",
   "metadata": {},
   "outputs": [],
   "source": [
    "lines = ['Test Accuracy:  0.9902999997138977', 'Test Loss:  0.03312191739678383']"
   ]
  },
  {
   "cell_type": "code",
   "execution_count": 26,
   "id": "4efd499f",
   "metadata": {},
   "outputs": [],
   "source": [
    "with open('results/model-6-1/metrics.txt', 'w') as f:\n",
    "    f.write('\\n'.join(lines))"
   ]
  },
  {
   "cell_type": "markdown",
   "id": "e857e6f2",
   "metadata": {},
   "source": [
    "**Saving the Validation Plots**"
   ]
  },
  {
   "cell_type": "code",
   "execution_count": 28,
   "id": "0b72d750",
   "metadata": {},
   "outputs": [
    {
     "name": "stdout",
     "output_type": "stream",
     "text": [
      "Epoch 1/5\n",
      "938/938 [==============================] - 46s 49ms/step - loss: 0.0151 - accuracy: 0.9953\n",
      "Epoch 2/5\n",
      "938/938 [==============================] - 42s 44ms/step - loss: 0.0124 - accuracy: 0.9963\n",
      "Epoch 3/5\n",
      "938/938 [==============================] - 40s 43ms/step - loss: 0.0102 - accuracy: 0.9970\n",
      "Epoch 4/5\n",
      "938/938 [==============================] - 37s 39ms/step - loss: 0.0093 - accuracy: 0.9972\n",
      "Epoch 5/5\n",
      "938/938 [==============================] - 38s 40ms/step - loss: 0.0073 - accuracy: 0.9977\n"
     ]
    }
   ],
   "source": [
    "history = model.fit(train_images, train_labels, epochs=5, batch_size=64)"
   ]
  },
  {
   "cell_type": "code",
   "execution_count": 34,
   "id": "2f9be9ab",
   "metadata": {},
   "outputs": [],
   "source": [
    "acc = history.history['accuracy']\n",
    "loss = history.history['loss']"
   ]
  },
  {
   "cell_type": "code",
   "execution_count": 40,
   "id": "20dc8f63",
   "metadata": {},
   "outputs": [
    {
     "data": {
      "text/plain": [
       "{'loss': [0.01508525013923645,\n",
       "  0.012374487705528736,\n",
       "  0.010205096565186977,\n",
       "  0.009319016709923744,\n",
       "  0.007304158993065357],\n",
       " 'accuracy': [0.9953166842460632,\n",
       "  0.9962666630744934,\n",
       "  0.9969666600227356,\n",
       "  0.9972166419029236,\n",
       "  0.9977499842643738]}"
      ]
     },
     "execution_count": 40,
     "metadata": {},
     "output_type": "execute_result"
    }
   ],
   "source": [
    "history.history"
   ]
  },
  {
   "cell_type": "code",
   "execution_count": 35,
   "id": "2c9da455",
   "metadata": {},
   "outputs": [],
   "source": [
    "epochs = range(1, len(acc) + 1)"
   ]
  },
  {
   "cell_type": "code",
   "execution_count": 37,
   "id": "7de80781",
   "metadata": {},
   "outputs": [
    {
     "data": {
      "image/png": "[encoded data removed]",
      "text/plain": [
       "<Figure size 432x288 with 1 Axes>"
      ]
     },
     "metadata": {
      "needs_background": "light"
     },
     "output_type": "display_data"
    }
   ],
   "source": [
    "plt.plot(epochs, acc, 'bo', label='Training acc')\n",
    "plt.plot(epochs, loss, 'b', label='Training Loss')\n",
    "plt.title('Training Accuracy and Loss')\n",
    "plt.legend()\n",
    "\n",
    "plt.show()"
   ]
  },
  {
   "cell_type": "code",
   "execution_count": 41,
   "id": "8b75548b",
   "metadata": {},
   "outputs": [
    {
     "data": {
      "text/plain": [
       "<Figure size 432x288 with 0 Axes>"
      ]
     },
     "metadata": {},
     "output_type": "display_data"
    }
   ],
   "source": [
    "plt.savefig('results/model-6-1/validationplot.jpg')"
   ]
  }
 ],
 "metadata": {
  "kernelspec": {
   "display_name": "Python 3",
   "language": "python",
   "name": "python3"
  },
  "language_info": {
   "codemirror_mode": {
    "name": "ipython",
    "version": 3
   },
   "file_extension": ".py",
   "mimetype": "text/x-python",
   "name": "python",
   "nbconvert_exporter": "python",
   "pygments_lexer": "ipython3",
   "version": "3.8.3"
  }
 },
 "nbformat": 4,
 "nbformat_minor": 5
}
