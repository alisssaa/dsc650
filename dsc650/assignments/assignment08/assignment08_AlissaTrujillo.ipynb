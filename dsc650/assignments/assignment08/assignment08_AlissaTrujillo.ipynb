{
 "cells": [
  {
   "cell_type": "markdown",
   "id": "0a660b90-1a24-42d2-8e3c-bfc318be207d",
   "metadata": {},
   "source": [
    "### Assignment 8: Streaming"
   ]
  },
  {
   "cell_type": "code",
   "execution_count": null,
   "id": "e429eb56-927c-40d4-9dec-2008a645c6a5",
   "metadata": {},
   "outputs": [],
   "source": []
  }
 ],
 "metadata": {
  "kernelspec": {
   "display_name": "Python 3",
   "language": "python",
   "name": "python3"
  },
  "language_info": {
   "codemirror_mode": {
    "name": "ipython",
    "version": 3
   },
   "file_extension": ".py",
   "mimetype": "text/x-python",
   "name": "python",
   "nbconvert_exporter": "python",
   "pygments_lexer": "ipython3",
   "version": "3.8.3"
  }
 },
 "nbformat": 4,
 "nbformat_minor": 5
}
