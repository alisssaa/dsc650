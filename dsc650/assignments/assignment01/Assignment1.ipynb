{
 "cells": [
  {
   "cell_type": "code",
   "execution_count": 2,
   "id": "fd323b12-cfdc-41f3-bf4d-fb0d0da41282",
   "metadata": {
    "tags": []
   },
   "outputs": [
    {
     "name": "stdout",
     "output_type": "stream",
     "text": [
      "60000 train samples\n",
      "10000 test samples\n",
      "Model: \"sequential_1\"\n",
      "_________________________________________________________________\n",
      " Layer (type)                Output Shape              Param #   \n",
      "=================================================================\n",
      " dense_3 (Dense)             (None, 512)               401920    \n",
      "                                                                 \n",
      " dropout_2 (Dropout)         (None, 512)               0         \n",
      "                                                                 \n",
      " dense_4 (Dense)             (None, 512)               262656    \n",
      "                                                                 \n",
      " dropout_3 (Dropout)         (None, 512)               0         \n",
      "                                                                 \n",
      " dense_5 (Dense)             (None, 10)                5130      \n",
      "                                                                 \n",
      "=================================================================\n",
      "Total params: 669,706\n",
      "Trainable params: 669,706\n",
      "Non-trainable params: 0\n",
      "_________________________________________________________________\n",
      "Epoch 1/20\n",
      "469/469 [==============================] - 7s 13ms/step - loss: 0.2598 - accuracy: 0.9203 - val_loss: 0.1118 - val_accuracy: 0.9658\n",
      "Epoch 2/20\n",
      "469/469 [==============================] - 5s 12ms/step - loss: 0.1049 - accuracy: 0.9686 - val_loss: 0.0944 - val_accuracy: 0.9693\n",
      "Epoch 3/20\n",
      "469/469 [==============================] - 5s 12ms/step - loss: 0.0746 - accuracy: 0.9771 - val_loss: 0.0672 - val_accuracy: 0.9787\n",
      "Epoch 4/20\n",
      "469/469 [==============================] - 5s 12ms/step - loss: 0.0599 - accuracy: 0.9807 - val_loss: 0.0699 - val_accuracy: 0.9792\n",
      "Epoch 5/20\n",
      "469/469 [==============================] - 6s 12ms/step - loss: 0.0463 - accuracy: 0.9855 - val_loss: 0.0749 - val_accuracy: 0.9802\n",
      "Epoch 6/20\n",
      "469/469 [==============================] - 6s 12ms/step - loss: 0.0398 - accuracy: 0.9877 - val_loss: 0.0765 - val_accuracy: 0.9798\n",
      "Epoch 7/20\n",
      "469/469 [==============================] - 6s 12ms/step - loss: 0.0354 - accuracy: 0.9888 - val_loss: 0.0759 - val_accuracy: 0.9805\n",
      "Epoch 8/20\n",
      "469/469 [==============================] - 6s 12ms/step - loss: 0.0294 - accuracy: 0.9902 - val_loss: 0.0764 - val_accuracy: 0.9815\n",
      "Epoch 9/20\n",
      "469/469 [==============================] - 6s 12ms/step - loss: 0.0275 - accuracy: 0.9910 - val_loss: 0.0721 - val_accuracy: 0.9819\n",
      "Epoch 10/20\n",
      "469/469 [==============================] - 6s 12ms/step - loss: 0.0231 - accuracy: 0.9926 - val_loss: 0.0752 - val_accuracy: 0.9824\n",
      "Epoch 11/20\n",
      "469/469 [==============================] - 6s 12ms/step - loss: 0.0212 - accuracy: 0.9933 - val_loss: 0.0758 - val_accuracy: 0.9831\n",
      "Epoch 12/20\n",
      "469/469 [==============================] - 6s 12ms/step - loss: 0.0181 - accuracy: 0.9939 - val_loss: 0.0870 - val_accuracy: 0.9814\n",
      "Epoch 13/20\n",
      "469/469 [==============================] - 6s 12ms/step - loss: 0.0153 - accuracy: 0.9948 - val_loss: 0.0791 - val_accuracy: 0.9837\n",
      "Epoch 14/20\n",
      "469/469 [==============================] - 5s 12ms/step - loss: 0.0167 - accuracy: 0.9946 - val_loss: 0.0827 - val_accuracy: 0.9841\n",
      "Epoch 15/20\n",
      "469/469 [==============================] - 6s 12ms/step - loss: 0.0145 - accuracy: 0.9950 - val_loss: 0.0843 - val_accuracy: 0.9830\n",
      "Epoch 16/20\n",
      "469/469 [==============================] - 6s 12ms/step - loss: 0.0139 - accuracy: 0.9954 - val_loss: 0.0828 - val_accuracy: 0.9841\n",
      "Epoch 17/20\n",
      "469/469 [==============================] - 5s 12ms/step - loss: 0.0121 - accuracy: 0.9957 - val_loss: 0.0811 - val_accuracy: 0.9838\n",
      "Epoch 18/20\n",
      "469/469 [==============================] - 6s 12ms/step - loss: 0.0120 - accuracy: 0.9962 - val_loss: 0.0834 - val_accuracy: 0.9853\n",
      "Epoch 19/20\n",
      "469/469 [==============================] - 6s 12ms/step - loss: 0.0104 - accuracy: 0.9967 - val_loss: 0.0872 - val_accuracy: 0.9838\n",
      "Epoch 20/20\n",
      "469/469 [==============================] - 6s 12ms/step - loss: 0.0094 - accuracy: 0.9968 - val_loss: 0.0901 - val_accuracy: 0.9851\n",
      "Test loss: 0.09010910987854004\n",
      "Test accuracy: 0.9850999712944031\n"
     ]
    }
   ],
   "source": [
    "%run mnist_mlp.py"
   ]
  },
  {
   "cell_type": "code",
   "execution_count": 4,
   "id": "404f3c8b-6bb6-4755-b395-1b1b35bce70a",
   "metadata": {
    "tags": []
   },
   "outputs": [
    {
     "name": "stderr",
     "output_type": "stream",
     "text": [
      "                                                                                \r"
     ]
    },
    {
     "name": "stdout",
     "output_type": "stream",
     "text": [
      "Pi is roughly 3.137400\n"
     ]
    }
   ],
   "source": [
    "%run pi.py"
   ]
  },
  {
   "cell_type": "code",
   "execution_count": null,
   "id": "f6163179-c42b-4d74-94db-5cdd6fe036e5",
   "metadata": {},
   "outputs": [],
   "source": []
  }
 ],
 "metadata": {
  "kernelspec": {
   "display_name": "Python 3 (ipykernel)",
   "language": "python",
   "name": "python3"
  },
  "language_info": {
   "codemirror_mode": {
    "name": "ipython",
    "version": 3
   },
   "file_extension": ".py",
   "mimetype": "text/x-python",
   "name": "python",
   "nbconvert_exporter": "python",
   "pygments_lexer": "ipython3",
   "version": "3.10.10"
  }
 },
 "nbformat": 4,
 "nbformat_minor": 5
}
