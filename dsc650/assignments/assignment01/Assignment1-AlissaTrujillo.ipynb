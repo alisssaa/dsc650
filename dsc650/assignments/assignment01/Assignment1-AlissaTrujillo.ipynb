{
 "cells": [
  {
   "cell_type": "markdown",
   "id": "f004b91e",
   "metadata": {},
   "source": [
    "# Exercise 1\n",
    "\n",
    "Alissa Trujillo<br>\n",
    "June 8, 2023<br>\n",
    "DSC 650<br>\n",
    "Week 1: Intro to Big Data & Deep Learning"
   ]
  },
  {
   "cell_type": "code",
   "execution_count": 2,
   "id": "e45c47e1",
   "metadata": {
    "tags": []
   },
   "outputs": [
    {
     "name": "stdout",
     "output_type": "stream",
     "text": [
      "60000 train samples\n",
      "10000 test samples\n",
      "Model: \"sequential_1\"\n",
      "_________________________________________________________________\n",
      " Layer (type)                Output Shape              Param #   \n",
      "=================================================================\n",
      " dense_3 (Dense)             (None, 512)               401920    \n",
      "                                                                 \n",
      " dropout_2 (Dropout)         (None, 512)               0         \n",
      "                                                                 \n",
      " dense_4 (Dense)             (None, 512)               262656    \n",
      "                                                                 \n",
      " dropout_3 (Dropout)         (None, 512)               0         \n",
      "                                                                 \n",
      " dense_5 (Dense)             (None, 10)                5130      \n",
      "                                                                 \n",
      "=================================================================\n",
      "Total params: 669,706\n",
      "Trainable params: 669,706\n",
      "Non-trainable params: 0\n",
      "_________________________________________________________________\n",
      "Epoch 1/20\n",
      "469/469 [==============================] - 9s 18ms/step - loss: 0.2456 - accuracy: 0.9238 - val_loss: 0.1314 - val_accuracy: 0.9578\n",
      "Epoch 2/20\n",
      "469/469 [==============================] - 8s 17ms/step - loss: 0.1020 - accuracy: 0.9695 - val_loss: 0.0822 - val_accuracy: 0.9763\n",
      "Epoch 3/20\n",
      "469/469 [==============================] - 8s 16ms/step - loss: 0.0739 - accuracy: 0.9777 - val_loss: 0.0719 - val_accuracy: 0.9790\n",
      "Epoch 4/20\n",
      "469/469 [==============================] - 8s 16ms/step - loss: 0.0588 - accuracy: 0.9819 - val_loss: 0.0710 - val_accuracy: 0.9795\n",
      "Epoch 5/20\n",
      "469/469 [==============================] - 8s 16ms/step - loss: 0.0494 - accuracy: 0.9853 - val_loss: 0.0725 - val_accuracy: 0.9803\n",
      "Epoch 6/20\n",
      "469/469 [==============================] - 8s 16ms/step - loss: 0.0437 - accuracy: 0.9871 - val_loss: 0.0820 - val_accuracy: 0.9812\n",
      "Epoch 7/20\n",
      "469/469 [==============================] - 8s 16ms/step - loss: 0.0377 - accuracy: 0.9886 - val_loss: 0.0895 - val_accuracy: 0.9823\n",
      "Epoch 8/20\n",
      "469/469 [==============================] - 8s 16ms/step - loss: 0.0355 - accuracy: 0.9891 - val_loss: 0.0849 - val_accuracy: 0.9806\n",
      "Epoch 9/20\n",
      "469/469 [==============================] - 8s 16ms/step - loss: 0.0299 - accuracy: 0.9914 - val_loss: 0.0822 - val_accuracy: 0.9835\n",
      "Epoch 10/20\n",
      "469/469 [==============================] - 12s 25ms/step - loss: 0.0302 - accuracy: 0.9913 - val_loss: 0.0854 - val_accuracy: 0.9836\n",
      "Epoch 11/20\n",
      "469/469 [==============================] - 12s 26ms/step - loss: 0.0264 - accuracy: 0.9926 - val_loss: 0.0954 - val_accuracy: 0.9830\n",
      "Epoch 12/20\n",
      "469/469 [==============================] - 11s 23ms/step - loss: 0.0243 - accuracy: 0.9929 - val_loss: 0.0926 - val_accuracy: 0.9823\n",
      "Epoch 13/20\n",
      "469/469 [==============================] - 11s 23ms/step - loss: 0.0229 - accuracy: 0.9934 - val_loss: 0.0998 - val_accuracy: 0.9838\n",
      "Epoch 14/20\n",
      "469/469 [==============================] - 9s 20ms/step - loss: 0.0223 - accuracy: 0.9937 - val_loss: 0.1144 - val_accuracy: 0.9825\n",
      "Epoch 15/20\n",
      "469/469 [==============================] - 9s 19ms/step - loss: 0.0210 - accuracy: 0.9944 - val_loss: 0.1312 - val_accuracy: 0.9823\n",
      "Epoch 16/20\n",
      "469/469 [==============================] - 9s 20ms/step - loss: 0.0188 - accuracy: 0.9947 - val_loss: 0.1185 - val_accuracy: 0.9815\n",
      "Epoch 17/20\n",
      "469/469 [==============================] - 11s 23ms/step - loss: 0.0184 - accuracy: 0.9945 - val_loss: 0.1263 - val_accuracy: 0.9820\n",
      "Epoch 18/20\n",
      "469/469 [==============================] - 9s 19ms/step - loss: 0.0188 - accuracy: 0.9947 - val_loss: 0.1134 - val_accuracy: 0.9840\n",
      "Epoch 19/20\n",
      "469/469 [==============================] - 10s 21ms/step - loss: 0.0190 - accuracy: 0.9952 - val_loss: 0.1161 - val_accuracy: 0.9839\n",
      "Epoch 20/20\n",
      "469/469 [==============================] - 12s 26ms/step - loss: 0.0149 - accuracy: 0.9958 - val_loss: 0.1334 - val_accuracy: 0.9820\n",
      "Test loss: 0.13339389860630035\n",
      "Test accuracy: 0.9819999933242798\n"
     ]
    }
   ],
   "source": [
    "%run mnist_mlp.py"
   ]
  },
  {
   "cell_type": "code",
   "execution_count": 4,
   "id": "ad2de560",
   "metadata": {
    "tags": []
   },
   "outputs": [
    {
     "name": "stderr",
     "output_type": "stream",
     "text": [
      "                                                                                \r"
     ]
    },
    {
     "name": "stdout",
     "output_type": "stream",
     "text": [
      "Pi is roughly 3.137400\n"
     ]
    }
   ],
   "source": [
    "%run pi.py"
   ]
  }
 ],
 "metadata": {
  "kernelspec": {
   "display_name": "Python 3",
   "language": "python",
   "name": "python3"
  },
  "language_info": {
   "codemirror_mode": {
    "name": "ipython",
    "version": 3
   },
   "file_extension": ".py",
   "mimetype": "text/x-python",
   "name": "python",
   "nbconvert_exporter": "python",
   "pygments_lexer": "ipython3",
   "version": "3.8.3"
  }
 },
 "nbformat": 4,
 "nbformat_minor": 5
}
